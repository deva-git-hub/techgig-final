{
  "nbformat": 4,
  "nbformat_minor": 0,
  "metadata": {
    "colab": {
      "name": "techgig final Dev A.ipynb",
      "provenance": [],
      "collapsed_sections": []
    },
    "kernelspec": {
      "name": "python3",
      "display_name": "Python 3"
    },
    "language_info": {
      "name": "python"
    }
  },
  "cells": [
    {
      "cell_type": "code",
      "metadata": {
        "id": "t-VDhcr7Xag9"
      },
      "source": [
        "## sorry for not using comments.\n",
        "## and for long print statements."
      ],
      "execution_count": 360,
      "outputs": []
    },
    {
      "cell_type": "code",
      "metadata": {
        "colab": {
          "base_uri": "https://localhost:8080/"
        },
        "id": "iyDir5axXejy",
        "outputId": "6b1722c1-4906-407f-961a-12f9f550c035"
      },
      "source": [
        "!wget https://www.techgig.com/files/contest_upload_files/click_log_finale.csv"
      ],
      "execution_count": 2,
      "outputs": [
        {
          "output_type": "stream",
          "text": [
            "--2021-07-24 07:18:00--  https://www.techgig.com/files/contest_upload_files/click_log_finale.csv\n",
            "Resolving www.techgig.com (www.techgig.com)... 23.205.107.91, 23.205.107.77, 2600:1408:c400:16::17d4:f804, ...\n",
            "Connecting to www.techgig.com (www.techgig.com)|23.205.107.91|:443... connected.\n",
            "HTTP request sent, awaiting response... 200 OK\n",
            "Length: unspecified [text/csv]\n",
            "Saving to: ‘click_log_finale.csv’\n",
            "\n",
            "click_log_finale.cs     [             <=>    ] 110.45M  25.7MB/s    in 5.4s    \n",
            "\n",
            "2021-07-24 07:18:14 (20.5 MB/s) - ‘click_log_finale.csv’ saved [115820094]\n",
            "\n"
          ],
          "name": "stdout"
        }
      ]
    },
    {
      "cell_type": "code",
      "metadata": {
        "colab": {
          "base_uri": "https://localhost:8080/"
        },
        "id": "PbDoV8GIYuUB",
        "outputId": "4e56672c-a58d-40bd-de42-d56e379a574e"
      },
      "source": [
        "!wget https://www.techgig.com/files/contest_upload_files/conversion_log_finale.csv"
      ],
      "execution_count": 3,
      "outputs": [
        {
          "output_type": "stream",
          "text": [
            "--2021-07-24 07:20:27--  https://www.techgig.com/files/contest_upload_files/conversion_log_finale.csv\n",
            "Resolving www.techgig.com (www.techgig.com)... 23.12.145.155, 23.12.145.138, 2600:1408:24::1726:675b, ...\n",
            "Connecting to www.techgig.com (www.techgig.com)|23.12.145.155|:443... connected.\n",
            "HTTP request sent, awaiting response... 200 OK\n",
            "Length: unspecified [text/csv]\n",
            "Saving to: ‘conversion_log_finale.csv’\n",
            "\n",
            "conversion_log_fina     [     <=>            ]   3.11M  3.13MB/s    in 1.0s    \n",
            "\n",
            "2021-07-24 07:20:29 (3.13 MB/s) - ‘conversion_log_finale.csv’ saved [3266357]\n",
            "\n"
          ],
          "name": "stdout"
        }
      ]
    },
    {
      "cell_type": "code",
      "metadata": {
        "id": "2VjS0QZEYMCZ"
      },
      "source": [
        "import pandas as pd\n",
        "import numpy as np\n",
        "\n",
        "click_logs = pd.read_csv(\"/content/drive/MyDrive/techgig/click_log_finale.csv\")\n",
        "conversion_logs = pd.read_csv(\"/content/drive/MyDrive/techgig/conversion_log_finale.csv\")"
      ],
      "execution_count": 121,
      "outputs": []
    },
    {
      "cell_type": "code",
      "metadata": {
        "colab": {
          "base_uri": "https://localhost:8080/",
          "height": 573
        },
        "id": "VFFP914yY_Sk",
        "outputId": "c6059b89-8114-4eb2-ef38-40e2f9d86a5c"
      },
      "source": [
        "click_logs.head()"
      ],
      "execution_count": 123,
      "outputs": [
        {
          "output_type": "execute_result",
          "data": {
            "text/html": [
              "<div>\n",
              "<style scoped>\n",
              "    .dataframe tbody tr th:only-of-type {\n",
              "        vertical-align: middle;\n",
              "    }\n",
              "\n",
              "    .dataframe tbody tr th {\n",
              "        vertical-align: top;\n",
              "    }\n",
              "\n",
              "    .dataframe thead th {\n",
              "        text-align: right;\n",
              "    }\n",
              "</style>\n",
              "<table border=\"1\" class=\"dataframe\">\n",
              "  <thead>\n",
              "    <tr style=\"text-align: right;\">\n",
              "      <th></th>\n",
              "      <th>imprId</th>\n",
              "      <th>clmbUserId</th>\n",
              "      <th>adSltDimId</th>\n",
              "      <th>auds</th>\n",
              "      <th>allAuds</th>\n",
              "      <th>itemid</th>\n",
              "      <th>algo</th>\n",
              "      <th>advClientId</th>\n",
              "      <th>pubClientId</th>\n",
              "      <th>itmClmbLId</th>\n",
              "      <th>tmpltId</th>\n",
              "      <th>clickBid</th>\n",
              "      <th>clickXForwardedFor</th>\n",
              "      <th>section</th>\n",
              "      <th>position</th>\n",
              "      <th>siteId</th>\n",
              "      <th>callIdentifier</th>\n",
              "      <th>crtd</th>\n",
              "      <th>pricingType</th>\n",
              "      <th>ctxCatId</th>\n",
              "      <th>clickIp</th>\n",
              "      <th>clickGeoId</th>\n",
              "      <th>esi</th>\n",
              "      <th>adBlockerDetectionValueId</th>\n",
              "      <th>impressionServedTimeStamp</th>\n",
              "      <th>appver</th>\n",
              "      <th>ip</th>\n",
              "      <th>geoDimId</th>\n",
              "      <th>geoGrpDimId</th>\n",
              "      <th>cityDimId</th>\n",
              "      <th>cityGrpDimId</th>\n",
              "      <th>stateDimId</th>\n",
              "      <th>stateGrpDimId</th>\n",
              "      <th>ispDimId</th>\n",
              "      <th>connTypeDimId</th>\n",
              "      <th>userAgent</th>\n",
              "      <th>osDimId</th>\n",
              "      <th>osVerDimId</th>\n",
              "      <th>devTypeDimId</th>\n",
              "      <th>vendorDimId</th>\n",
              "      <th>modelDimId</th>\n",
              "      <th>browserDimId</th>\n",
              "      <th>@timestamp</th>\n",
              "      <th>paid</th>\n",
              "    </tr>\n",
              "  </thead>\n",
              "  <tbody>\n",
              "    <tr>\n",
              "      <th>0</th>\n",
              "      <td>c612559f-ea01-4436-bc3a-f2baf4006167-1sj4s</td>\n",
              "      <td>1b501c7b-fbb3-4695-a177-de886fedeb3f-1sjac</td>\n",
              "      <td>264415</td>\n",
              "      <td>2x6,2vv,8k6,8k8,2vk,8gw,joa</td>\n",
              "      <td>n90,n91,n95,nyw,apc,357,n8a,n8c,n8d,mxl,mxn,mx...</td>\n",
              "      <td>32152115</td>\n",
              "      <td>38</td>\n",
              "      <td>71193</td>\n",
              "      <td>8359</td>\n",
              "      <td>5552739</td>\n",
              "      <td>5473.0</td>\n",
              "      <td>NaN</td>\n",
              "      <td>2401:4900:4bb9:dce0:b3f:8fcd:df8e:82c2, 104.90...</td>\n",
              "      <td>0</td>\n",
              "      <td>1</td>\n",
              "      <td>1215</td>\n",
              "      <td>O815g979G3871627009208479pzi0idrqzsmocw0fz65qsd</td>\n",
              "      <td>1627009225622</td>\n",
              "      <td>2</td>\n",
              "      <td>NaN</td>\n",
              "      <td>2401:4900:4bb9:dce0:b3f:8fcd:df8e:82c2</td>\n",
              "      <td>144.0</td>\n",
              "      <td>0.0</td>\n",
              "      <td>4.0</td>\n",
              "      <td>17.0</td>\n",
              "      <td>NaN</td>\n",
              "      <td>2401:4900:4bb9:dce0:b3f:8fcd:df8e:82c2</td>\n",
              "      <td>144</td>\n",
              "      <td>348011</td>\n",
              "      <td>10263</td>\n",
              "      <td>348007.0</td>\n",
              "      <td>1806</td>\n",
              "      <td>348022.0</td>\n",
              "      <td>136127</td>\n",
              "      <td>264496</td>\n",
              "      <td>Mozilla/5.0 (Linux; Android 11; V2036; wv) App...</td>\n",
              "      <td>129311</td>\n",
              "      <td>359919</td>\n",
              "      <td>196041</td>\n",
              "      <td>196472</td>\n",
              "      <td>0</td>\n",
              "      <td>129408</td>\n",
              "      <td>2021-07-23T08:30:25.622+05:30</td>\n",
              "      <td>1</td>\n",
              "    </tr>\n",
              "    <tr>\n",
              "      <th>1</th>\n",
              "      <td>e5d34382-2143-4045-a050-6a045eeb9849-62qg</td>\n",
              "      <td>badff3fb-0c89-4d76-8728-5bda3ad3b668</td>\n",
              "      <td>351985</td>\n",
              "      <td>2x6,8k6,8gv,8gw,8iy,8l1</td>\n",
              "      <td>2wl,33h,oy7,lo4,o1w,o1v,357,o1y,o1x,5o2,o1z,o6...</td>\n",
              "      <td>40890571</td>\n",
              "      <td>38</td>\n",
              "      <td>77055</td>\n",
              "      <td>83084</td>\n",
              "      <td>5601806</td>\n",
              "      <td>3454.0</td>\n",
              "      <td>0.123604</td>\n",
              "      <td>2409:4043:2c0c:e4ff::e2c8:d10d, 49.44.198.245,...</td>\n",
              "      <td>d70f3a72-46d8-4047-9ba0-2</td>\n",
              "      <td>1</td>\n",
              "      <td>3192</td>\n",
              "      <td>3907b2ef-d7be-42b7-af46-deb8593b37f9</td>\n",
              "      <td>1627009229369</td>\n",
              "      <td>6</td>\n",
              "      <td>NaN</td>\n",
              "      <td>2409:4043:2c0c:e4ff::e2c8:d10d</td>\n",
              "      <td>144.0</td>\n",
              "      <td>0.0</td>\n",
              "      <td>1.0</td>\n",
              "      <td>19.0</td>\n",
              "      <td>NaN</td>\n",
              "      <td>157.34.167.246</td>\n",
              "      <td>144</td>\n",
              "      <td>348011</td>\n",
              "      <td>34756</td>\n",
              "      <td>348006.0</td>\n",
              "      <td>1808</td>\n",
              "      <td>348020.0</td>\n",
              "      <td>280429</td>\n",
              "      <td>264495</td>\n",
              "      <td>Mozilla/5.0 (Linux; Android 9; Redmi 6A Build/...</td>\n",
              "      <td>129311</td>\n",
              "      <td>359921</td>\n",
              "      <td>196041</td>\n",
              "      <td>196073</td>\n",
              "      <td>0</td>\n",
              "      <td>129408</td>\n",
              "      <td>2021-07-23T08:30:29.369+05:30</td>\n",
              "      <td>1</td>\n",
              "    </tr>\n",
              "    <tr>\n",
              "      <th>2</th>\n",
              "      <td>d3f36499-2207-4a1f-8dfe-6b8dd92ebc81-1sj7k</td>\n",
              "      <td>4bf80ceb-21ea-4096-9191-48b563862704-10tzk</td>\n",
              "      <td>349653</td>\n",
              "      <td>8go,8k6,2vk,8gw,2x6,2vv,nqv,jo8,job,8in,7gm,jo...</td>\n",
              "      <td>mwl,n90,nyw,mwz,apc,357,n8a,n8c,mxf,n8e,n8d,n8...</td>\n",
              "      <td>56704779</td>\n",
              "      <td>18</td>\n",
              "      <td>66516</td>\n",
              "      <td>82619</td>\n",
              "      <td>5659686</td>\n",
              "      <td>5605.0</td>\n",
              "      <td>7.200000</td>\n",
              "      <td>2401:4900:33d4:f5af:2:2:e542:4e04, 104.90.5.11...</td>\n",
              "      <td>kannadaprabha.com</td>\n",
              "      <td>1</td>\n",
              "      <td>3160</td>\n",
              "      <td>q672i614m17416270088625590a29ml6z7mluos2oake4r4</td>\n",
              "      <td>1627009229402</td>\n",
              "      <td>16</td>\n",
              "      <td>205449-1</td>\n",
              "      <td>2401:4900:33d4:f5af:2:2:e542:4e04</td>\n",
              "      <td>144.0</td>\n",
              "      <td>0.0</td>\n",
              "      <td>4.0</td>\n",
              "      <td>12.0</td>\n",
              "      <td>NaN</td>\n",
              "      <td>2401:4900:33d4:f5af:2:2:e542:4e04</td>\n",
              "      <td>144</td>\n",
              "      <td>348011</td>\n",
              "      <td>10262</td>\n",
              "      <td>NaN</td>\n",
              "      <td>1806</td>\n",
              "      <td>348022.0</td>\n",
              "      <td>136127</td>\n",
              "      <td>264496</td>\n",
              "      <td>Mozilla/5.0 (Linux; Android 11; CPH2213) Apple...</td>\n",
              "      <td>129311</td>\n",
              "      <td>359919</td>\n",
              "      <td>196041</td>\n",
              "      <td>196182</td>\n",
              "      <td>0</td>\n",
              "      <td>129408</td>\n",
              "      <td>2021-07-23T08:30:29.402+05:30</td>\n",
              "      <td>1</td>\n",
              "    </tr>\n",
              "    <tr>\n",
              "      <th>3</th>\n",
              "      <td>600010f4-1dcf-4813-8568-9cba9cc8b20e-10onw</td>\n",
              "      <td>D0BF76FE-1D2B-48E0-A23D-EF67D3A64AC2</td>\n",
              "      <td>129180</td>\n",
              "      <td>8gp,8gr,8k6,2vh,8gs,8k8,2vk,8gv,8gw,8iy,jo3,2x...</td>\n",
              "      <td>3ui,33h,33i,352,qq5,357,358,359,34h,on0,3vu,2v...</td>\n",
              "      <td>57856564</td>\n",
              "      <td>1</td>\n",
              "      <td>89210</td>\n",
              "      <td>2310</td>\n",
              "      <td>5669246</td>\n",
              "      <td>1441.0</td>\n",
              "      <td>5.400000</td>\n",
              "      <td>122.161.16.40, 23.58.93.166, 23.212.50.136</td>\n",
              "      <td>टेक</td>\n",
              "      <td>1</td>\n",
              "      <td>88</td>\n",
              "      <td>ios_3145210341</td>\n",
              "      <td>1627009229659</td>\n",
              "      <td>16</td>\n",
              "      <td>930-1,1798-1,2199-1,205449-1</td>\n",
              "      <td>122.161.16.40</td>\n",
              "      <td>144.0</td>\n",
              "      <td>0.0</td>\n",
              "      <td>4.0</td>\n",
              "      <td>28.0</td>\n",
              "      <td>6.1.21</td>\n",
              "      <td>122.161.16.40</td>\n",
              "      <td>144</td>\n",
              "      <td>348011</td>\n",
              "      <td>10255</td>\n",
              "      <td>348005.0</td>\n",
              "      <td>1804</td>\n",
              "      <td>348027.0</td>\n",
              "      <td>266913</td>\n",
              "      <td>264503</td>\n",
              "      <td>Mozilla/5.0 (iPhone; CPU iPhone OS 14_6 like M...</td>\n",
              "      <td>129325</td>\n",
              "      <td>0</td>\n",
              "      <td>196041</td>\n",
              "      <td>196338</td>\n",
              "      <td>204084</td>\n",
              "      <td>129473</td>\n",
              "      <td>2021-07-23T08:30:29.659+05:30</td>\n",
              "      <td>1</td>\n",
              "    </tr>\n",
              "    <tr>\n",
              "      <th>4</th>\n",
              "      <td>a7865e2a-6ba2-4d29-a38e-43be185dd999-1sjd4</td>\n",
              "      <td>5aababc4-7fb4-4042-8576-3b447edb9222-1sio4</td>\n",
              "      <td>195846</td>\n",
              "      <td>NaN</td>\n",
              "      <td>9nj</td>\n",
              "      <td>32152115</td>\n",
              "      <td>1</td>\n",
              "      <td>71193</td>\n",
              "      <td>13540</td>\n",
              "      <td>5257205</td>\n",
              "      <td>1087.0</td>\n",
              "      <td>NaN</td>\n",
              "      <td>203.109.75.255, 23.211.105.228, 23.212.50.128</td>\n",
              "      <td>coronavirus</td>\n",
              "      <td>2</td>\n",
              "      <td>225</td>\n",
              "      <td>aos_8731653218565782285</td>\n",
              "      <td>1627009230218</td>\n",
              "      <td>2</td>\n",
              "      <td>NaN</td>\n",
              "      <td>203.109.75.255</td>\n",
              "      <td>144.0</td>\n",
              "      <td>0.0</td>\n",
              "      <td>4.0</td>\n",
              "      <td>323.0</td>\n",
              "      <td>4.3.2.1</td>\n",
              "      <td>203.109.75.255</td>\n",
              "      <td>144</td>\n",
              "      <td>348011</td>\n",
              "      <td>10233</td>\n",
              "      <td>348008.0</td>\n",
              "      <td>1799</td>\n",
              "      <td>348023.0</td>\n",
              "      <td>190004</td>\n",
              "      <td>264495</td>\n",
              "      <td>Dalvik/2.1.0 (Linux; U; Android 5.0.2; Mi 4i M...</td>\n",
              "      <td>129311</td>\n",
              "      <td>206070</td>\n",
              "      <td>196041</td>\n",
              "      <td>196073</td>\n",
              "      <td>200810</td>\n",
              "      <td>129433</td>\n",
              "      <td>2021-07-23T08:30:30.218+05:30</td>\n",
              "      <td>1</td>\n",
              "    </tr>\n",
              "  </tbody>\n",
              "</table>\n",
              "</div>"
            ],
            "text/plain": [
              "                                       imprId  ... paid\n",
              "0  c612559f-ea01-4436-bc3a-f2baf4006167-1sj4s  ...    1\n",
              "1   e5d34382-2143-4045-a050-6a045eeb9849-62qg  ...    1\n",
              "2  d3f36499-2207-4a1f-8dfe-6b8dd92ebc81-1sj7k  ...    1\n",
              "3  600010f4-1dcf-4813-8568-9cba9cc8b20e-10onw  ...    1\n",
              "4  a7865e2a-6ba2-4d29-a38e-43be185dd999-1sjd4  ...    1\n",
              "\n",
              "[5 rows x 44 columns]"
            ]
          },
          "metadata": {
            "tags": []
          },
          "execution_count": 123
        }
      ]
    },
    {
      "cell_type": "code",
      "metadata": {
        "colab": {
          "base_uri": "https://localhost:8080/"
        },
        "id": "wCB5GTH4Zb6g",
        "outputId": "3fe21aa7-b4d8-4edd-b8c4-aa89b3271c85"
      },
      "source": [
        "click_logs.shape"
      ],
      "execution_count": 124,
      "outputs": [
        {
          "output_type": "execute_result",
          "data": {
            "text/plain": [
              "(127941, 44)"
            ]
          },
          "metadata": {
            "tags": []
          },
          "execution_count": 124
        }
      ]
    },
    {
      "cell_type": "code",
      "metadata": {
        "colab": {
          "base_uri": "https://localhost:8080/"
        },
        "id": "c1rmDR9YaZnS",
        "outputId": "943839be-3c89-44be-b11d-e6826faa1ac3"
      },
      "source": [
        "click_logs.info()"
      ],
      "execution_count": 125,
      "outputs": [
        {
          "output_type": "stream",
          "text": [
            "<class 'pandas.core.frame.DataFrame'>\n",
            "RangeIndex: 127941 entries, 0 to 127940\n",
            "Data columns (total 44 columns):\n",
            " #   Column                     Non-Null Count   Dtype  \n",
            "---  ------                     --------------   -----  \n",
            " 0   imprId                     127941 non-null  object \n",
            " 1   clmbUserId                 127941 non-null  object \n",
            " 2   adSltDimId                 127941 non-null  int64  \n",
            " 3   auds                       75551 non-null   object \n",
            " 4   allAuds                    126978 non-null  object \n",
            " 5   itemid                     127941 non-null  int64  \n",
            " 6   algo                       127941 non-null  int64  \n",
            " 7   advClientId                127941 non-null  int64  \n",
            " 8   pubClientId                127941 non-null  int64  \n",
            " 9   itmClmbLId                 127941 non-null  int64  \n",
            " 10  tmpltId                    126751 non-null  float64\n",
            " 11  clickBid                   88615 non-null   float64\n",
            " 12  clickXForwardedFor         126751 non-null  object \n",
            " 13  section                    127941 non-null  object \n",
            " 14  position                   127941 non-null  int64  \n",
            " 15  siteId                     127941 non-null  int64  \n",
            " 16  callIdentifier             127658 non-null  object \n",
            " 17  crtd                       127941 non-null  int64  \n",
            " 18  pricingType                127941 non-null  int64  \n",
            " 19  ctxCatId                   46506 non-null   object \n",
            " 20  clickIp                    126751 non-null  object \n",
            " 21  clickGeoId                 126751 non-null  float64\n",
            " 22  esi                        126751 non-null  float64\n",
            " 23  adBlockerDetectionValueId  126751 non-null  float64\n",
            " 24  impressionServedTimeStamp  123416 non-null  float64\n",
            " 25  appver                     26021 non-null   object \n",
            " 26  ip                         127941 non-null  object \n",
            " 27  geoDimId                   127941 non-null  int64  \n",
            " 28  geoGrpDimId                127941 non-null  int64  \n",
            " 29  cityDimId                  127941 non-null  int64  \n",
            " 30  cityGrpDimId               85868 non-null   float64\n",
            " 31  stateDimId                 127941 non-null  int64  \n",
            " 32  stateGrpDimId              122818 non-null  float64\n",
            " 33  ispDimId                   127941 non-null  int64  \n",
            " 34  connTypeDimId              127941 non-null  int64  \n",
            " 35  userAgent                  127941 non-null  object \n",
            " 36  osDimId                    127941 non-null  int64  \n",
            " 37  osVerDimId                 127941 non-null  int64  \n",
            " 38  devTypeDimId               127941 non-null  int64  \n",
            " 39  vendorDimId                127941 non-null  int64  \n",
            " 40  modelDimId                 127941 non-null  int64  \n",
            " 41  browserDimId               127941 non-null  int64  \n",
            " 42  @timestamp                 127941 non-null  object \n",
            " 43  paid                       127941 non-null  int64  \n",
            "dtypes: float64(8), int64(23), object(13)\n",
            "memory usage: 42.9+ MB\n"
          ],
          "name": "stdout"
        }
      ]
    },
    {
      "cell_type": "code",
      "metadata": {
        "colab": {
          "base_uri": "https://localhost:8080/"
        },
        "id": "BbIS5jGcZfZu",
        "outputId": "fea393d0-6605-4903-93c5-99b8cae7d827"
      },
      "source": [
        "conversion_logs.shape"
      ],
      "execution_count": 128,
      "outputs": [
        {
          "output_type": "execute_result",
          "data": {
            "text/plain": [
              "(3955, 45)"
            ]
          },
          "metadata": {
            "tags": []
          },
          "execution_count": 128
        }
      ]
    },
    {
      "cell_type": "code",
      "metadata": {
        "colab": {
          "base_uri": "https://localhost:8080/"
        },
        "id": "8IndK5lhawZW",
        "outputId": "3ab28663-37c6-4bc0-8872-43fd1d9fed9a"
      },
      "source": [
        "conversion_logs.info()"
      ],
      "execution_count": 127,
      "outputs": [
        {
          "output_type": "stream",
          "text": [
            "<class 'pandas.core.frame.DataFrame'>\n",
            "RangeIndex: 3955 entries, 0 to 3954\n",
            "Data columns (total 45 columns):\n",
            " #   Column                      Non-Null Count  Dtype  \n",
            "---  ------                      --------------  -----  \n",
            " 0   callIdentifier              3917 non-null   object \n",
            " 1   clientid                    3955 non-null   int64  \n",
            " 2   clmbuserid                  3955 non-null   object \n",
            " 3   conversiontime              3955 non-null   int64  \n",
            " 4   imprid                      3955 non-null   object \n",
            " 5   adslotdimid                 3955 non-null   int64  \n",
            " 6   algo                        3955 non-null   int64  \n",
            " 7   audiences                   2251 non-null   object \n",
            " 8   clickbid                    1498 non-null   float64\n",
            " 9   geodimid                    3955 non-null   int64  \n",
            " 10  ip (hashed)                 3911 non-null   object \n",
            " 11  itemcolumbiaid              3955 non-null   int64  \n",
            " 12  itemid                      3955 non-null   int64  \n",
            " 13  position                    3911 non-null   float64\n",
            " 14  pubclientid                 3955 non-null   int64  \n",
            " 15  section                     3955 non-null   object \n",
            " 16  siteId                      3955 non-null   int64  \n",
            " 17  templateid                  3814 non-null   float64\n",
            " 18  goalid                      3955 non-null   int64  \n",
            " 19  time                        3955 non-null   int64  \n",
            " 20  adLogType                   3955 non-null   int64  \n",
            " 21  allAudiences                3870 non-null   object \n",
            " 22  pricingtype                 3955 non-null   int64  \n",
            " 23  osId                        3911 non-null   float64\n",
            " 24  browserId                   3911 non-null   float64\n",
            " 25  cityId                      3911 non-null   float64\n",
            " 26  stateId                     3911 non-null   float64\n",
            " 27  modelDimId                  3911 non-null   float64\n",
            " 28  connTypeDimId               3911 non-null   object \n",
            " 29  ispDimId                    3911 non-null   float64\n",
            " 30  countryDimId                3955 non-null   int64  \n",
            " 31  goalTypeId                  3955 non-null   int64  \n",
            " 32  conversionDurationInMillis  3911 non-null   float64\n",
            " 33  impressionTimeInMillis      3911 non-null   float64\n",
            " 34  clickTimeInMillis           2300 non-null   float64\n",
            " 35  osVerDimId                  3911 non-null   float64\n",
            " 36  geoGrpDimId                 3955 non-null   int64  \n",
            " 37  stateGrpDimId               2743 non-null   float64\n",
            " 38  @timestamp                  3955 non-null   object \n",
            " 39  host                        3955 non-null   object \n",
            " 40  conversionid                818 non-null    object \n",
            " 41  cityGrpDimId                2045 non-null   float64\n",
            " 42  isOrganic                   1122 non-null   object \n",
            " 43  deviceId                    1611 non-null   float64\n",
            " 44  platformId                  1611 non-null   float64\n",
            "dtypes: float64(17), int64(16), object(12)\n",
            "memory usage: 1.4+ MB\n"
          ],
          "name": "stdout"
        }
      ]
    },
    {
      "cell_type": "code",
      "metadata": {
        "colab": {
          "base_uri": "https://localhost:8080/",
          "height": 506
        },
        "id": "28TbhMUJZiZP",
        "outputId": "57759a1c-c885-4b17-c3ff-35399d6cbc74"
      },
      "source": [
        "conversion_logs.head()"
      ],
      "execution_count": 129,
      "outputs": [
        {
          "output_type": "execute_result",
          "data": {
            "text/html": [
              "<div>\n",
              "<style scoped>\n",
              "    .dataframe tbody tr th:only-of-type {\n",
              "        vertical-align: middle;\n",
              "    }\n",
              "\n",
              "    .dataframe tbody tr th {\n",
              "        vertical-align: top;\n",
              "    }\n",
              "\n",
              "    .dataframe thead th {\n",
              "        text-align: right;\n",
              "    }\n",
              "</style>\n",
              "<table border=\"1\" class=\"dataframe\">\n",
              "  <thead>\n",
              "    <tr style=\"text-align: right;\">\n",
              "      <th></th>\n",
              "      <th>callIdentifier</th>\n",
              "      <th>clientid</th>\n",
              "      <th>clmbuserid</th>\n",
              "      <th>conversiontime</th>\n",
              "      <th>imprid</th>\n",
              "      <th>adslotdimid</th>\n",
              "      <th>algo</th>\n",
              "      <th>audiences</th>\n",
              "      <th>clickbid</th>\n",
              "      <th>geodimid</th>\n",
              "      <th>ip (hashed)</th>\n",
              "      <th>itemcolumbiaid</th>\n",
              "      <th>itemid</th>\n",
              "      <th>position</th>\n",
              "      <th>pubclientid</th>\n",
              "      <th>section</th>\n",
              "      <th>siteId</th>\n",
              "      <th>templateid</th>\n",
              "      <th>goalid</th>\n",
              "      <th>time</th>\n",
              "      <th>adLogType</th>\n",
              "      <th>allAudiences</th>\n",
              "      <th>pricingtype</th>\n",
              "      <th>osId</th>\n",
              "      <th>browserId</th>\n",
              "      <th>cityId</th>\n",
              "      <th>stateId</th>\n",
              "      <th>modelDimId</th>\n",
              "      <th>connTypeDimId</th>\n",
              "      <th>ispDimId</th>\n",
              "      <th>countryDimId</th>\n",
              "      <th>goalTypeId</th>\n",
              "      <th>conversionDurationInMillis</th>\n",
              "      <th>impressionTimeInMillis</th>\n",
              "      <th>clickTimeInMillis</th>\n",
              "      <th>osVerDimId</th>\n",
              "      <th>geoGrpDimId</th>\n",
              "      <th>stateGrpDimId</th>\n",
              "      <th>@timestamp</th>\n",
              "      <th>host</th>\n",
              "      <th>conversionid</th>\n",
              "      <th>cityGrpDimId</th>\n",
              "      <th>isOrganic</th>\n",
              "      <th>deviceId</th>\n",
              "      <th>platformId</th>\n",
              "    </tr>\n",
              "  </thead>\n",
              "  <tbody>\n",
              "    <tr>\n",
              "      <th>0</th>\n",
              "      <td>5049c657-1f2f-4299-9707-44aa0543ef9d</td>\n",
              "      <td>84445</td>\n",
              "      <td>6736ac43-a24d-4289-b47b-08d4e848bea6</td>\n",
              "      <td>1627014631149</td>\n",
              "      <td>52dfed1c-d4d9-49b6-a82b-d57fc5d8b008-h0k8</td>\n",
              "      <td>351985</td>\n",
              "      <td>38</td>\n",
              "      <td>8l5,2vh,8gw,8iy,3si,jo3,2x6,2vt,nqv,jo8,8ke,8k...</td>\n",
              "      <td>1.2</td>\n",
              "      <td>144</td>\n",
              "      <td>bbe277f1fac207493f40aa18b91b91ec62ab8d2629694c...</td>\n",
              "      <td>5668678</td>\n",
              "      <td>57784112</td>\n",
              "      <td>1.0</td>\n",
              "      <td>83084</td>\n",
              "      <td>d70f3a72-46d8-4047-9ba0-2</td>\n",
              "      <td>3192</td>\n",
              "      <td>3454.0</td>\n",
              "      <td>11174</td>\n",
              "      <td>1627014631169</td>\n",
              "      <td>2</td>\n",
              "      <td>cu3,69f,33h,33i,350,69r,352,ia1,3g1,3g2,3g4,3g...</td>\n",
              "      <td>6</td>\n",
              "      <td>129311.0</td>\n",
              "      <td>129408.0</td>\n",
              "      <td>0.0</td>\n",
              "      <td>1807.0</td>\n",
              "      <td>0.0</td>\n",
              "      <td>264495</td>\n",
              "      <td>280429.0</td>\n",
              "      <td>144</td>\n",
              "      <td>17</td>\n",
              "      <td>3248.0</td>\n",
              "      <td>1.627014e+12</td>\n",
              "      <td>1.627010e+12</td>\n",
              "      <td>359919.0</td>\n",
              "      <td>348011</td>\n",
              "      <td>348022.0</td>\n",
              "      <td>2021-07-23T10:00:31.321+05:30</td>\n",
              "      <td>elkblnk3053</td>\n",
              "      <td>NaN</td>\n",
              "      <td>NaN</td>\n",
              "      <td>NaN</td>\n",
              "      <td>NaN</td>\n",
              "      <td>NaN</td>\n",
              "    </tr>\n",
              "    <tr>\n",
              "      <th>1</th>\n",
              "      <td>t539n188o6221627014615009a2s8yearnid2tkb9gfp3u8</td>\n",
              "      <td>66033</td>\n",
              "      <td>fbb93cdc-9db5-4628-8b53-dc8efa6fdceb-10w2k</td>\n",
              "      <td>1627014635995</td>\n",
              "      <td>9e36795e-86ff-4388-8e10-ed215033e104-631k</td>\n",
              "      <td>326424</td>\n",
              "      <td>18</td>\n",
              "      <td>NaN</td>\n",
              "      <td>2.7</td>\n",
              "      <td>144</td>\n",
              "      <td>9e48ea0a5400612eee343de3bbd9b7048828ce7025f710...</td>\n",
              "      <td>5668439</td>\n",
              "      <td>56700502</td>\n",
              "      <td>1.0</td>\n",
              "      <td>2310</td>\n",
              "      <td>0</td>\n",
              "      <td>767</td>\n",
              "      <td>5532.0</td>\n",
              "      <td>6351</td>\n",
              "      <td>1627014636132</td>\n",
              "      <td>2</td>\n",
              "      <td>hkf,9nj,5xq</td>\n",
              "      <td>16</td>\n",
              "      <td>129311.0</td>\n",
              "      <td>129408.0</td>\n",
              "      <td>0.0</td>\n",
              "      <td>1801.0</td>\n",
              "      <td>0.0</td>\n",
              "      <td>264496</td>\n",
              "      <td>136127.0</td>\n",
              "      <td>144</td>\n",
              "      <td>17</td>\n",
              "      <td>8975.0</td>\n",
              "      <td>1.627015e+12</td>\n",
              "      <td>1.627010e+12</td>\n",
              "      <td>360956.0</td>\n",
              "      <td>348011</td>\n",
              "      <td>348025.0</td>\n",
              "      <td>2021-07-23T10:00:36.399+05:30</td>\n",
              "      <td>elkz1ap1735</td>\n",
              "      <td>9e36795e-86ff-4388-8e10-ed215033e104-631k</td>\n",
              "      <td>NaN</td>\n",
              "      <td>NaN</td>\n",
              "      <td>NaN</td>\n",
              "      <td>NaN</td>\n",
              "    </tr>\n",
              "    <tr>\n",
              "      <th>2</th>\n",
              "      <td>d120L54U8271627014624508g0m51wgkh2t5uwmlhh6sbr</td>\n",
              "      <td>66033</td>\n",
              "      <td>9280c9dd-1d0b-4f7c-96a0-e30e0608b002-h0hg</td>\n",
              "      <td>1627014638709</td>\n",
              "      <td>613efb55-7f29-49b5-89e4-1d1ad7285857-3qpg</td>\n",
              "      <td>326424</td>\n",
              "      <td>18</td>\n",
              "      <td>8gv,8jk,job</td>\n",
              "      <td>2.7</td>\n",
              "      <td>144</td>\n",
              "      <td>ae8d797ce2981e8de4357718119e3327dec9cf6ceabf4e...</td>\n",
              "      <td>5668439</td>\n",
              "      <td>56704238</td>\n",
              "      <td>1.0</td>\n",
              "      <td>2310</td>\n",
              "      <td>0</td>\n",
              "      <td>767</td>\n",
              "      <td>5532.0</td>\n",
              "      <td>6351</td>\n",
              "      <td>1627014638735</td>\n",
              "      <td>2</td>\n",
              "      <td>8js,hql,l7m,h7q,2wl,mss,nyw,nqo,lo4,nqx,357,ap...</td>\n",
              "      <td>16</td>\n",
              "      <td>129311.0</td>\n",
              "      <td>129408.0</td>\n",
              "      <td>10239.0</td>\n",
              "      <td>1801.0</td>\n",
              "      <td>0.0</td>\n",
              "      <td>264496</td>\n",
              "      <td>280429.0</td>\n",
              "      <td>144</td>\n",
              "      <td>17</td>\n",
              "      <td>2587.0</td>\n",
              "      <td>1.627015e+12</td>\n",
              "      <td>1.627010e+12</td>\n",
              "      <td>359919.0</td>\n",
              "      <td>348011</td>\n",
              "      <td>348025.0</td>\n",
              "      <td>2021-07-23T10:00:38.934+05:30</td>\n",
              "      <td>elkz1ap1735</td>\n",
              "      <td>NaN</td>\n",
              "      <td>348010.0</td>\n",
              "      <td>NaN</td>\n",
              "      <td>NaN</td>\n",
              "      <td>NaN</td>\n",
              "    </tr>\n",
              "    <tr>\n",
              "      <th>3</th>\n",
              "      <td>w676m504k420</td>\n",
              "      <td>84618</td>\n",
              "      <td>02906270-a867-4ff4-87d1-408345834b80-10wrk</td>\n",
              "      <td>1627014624917</td>\n",
              "      <td>026368ca-b51d-4449-9f5f-3539450bf509-10onw</td>\n",
              "      <td>322157</td>\n",
              "      <td>18</td>\n",
              "      <td>8gw</td>\n",
              "      <td>NaN</td>\n",
              "      <td>144</td>\n",
              "      <td>3caff2b733b9b94a168b5b0e01ced713610bd54d98b545...</td>\n",
              "      <td>5656766</td>\n",
              "      <td>57199289</td>\n",
              "      <td>81863.0</td>\n",
              "      <td>16153</td>\n",
              "      <td>0</td>\n",
              "      <td>2627</td>\n",
              "      <td>5627.0</td>\n",
              "      <td>9837</td>\n",
              "      <td>1627014625337</td>\n",
              "      <td>2</td>\n",
              "      <td>hql,h7t,ow3,gk1,h5y,lo4,p1q,o1v,p1u,arh,o1x,5o...</td>\n",
              "      <td>17</td>\n",
              "      <td>129311.0</td>\n",
              "      <td>129408.0</td>\n",
              "      <td>10286.0</td>\n",
              "      <td>1810.0</td>\n",
              "      <td>0.0</td>\n",
              "      <td>264496</td>\n",
              "      <td>136127.0</td>\n",
              "      <td>144</td>\n",
              "      <td>17</td>\n",
              "      <td>11649.0</td>\n",
              "      <td>1.627015e+12</td>\n",
              "      <td>1.627010e+12</td>\n",
              "      <td>360956.0</td>\n",
              "      <td>348011</td>\n",
              "      <td>348024.0</td>\n",
              "      <td>2021-07-23T10:00:25.392+05:30</td>\n",
              "      <td>elkz1ap1736</td>\n",
              "      <td>NaN</td>\n",
              "      <td>348010.0</td>\n",
              "      <td>NaN</td>\n",
              "      <td>NaN</td>\n",
              "      <td>NaN</td>\n",
              "    </tr>\n",
              "    <tr>\n",
              "      <th>4</th>\n",
              "      <td>532b03ad-efe1-4f15-85a3-1f1a850cd01f</td>\n",
              "      <td>84445</td>\n",
              "      <td>5a8a1bbe-4a26-4442-a2fa-cdc38b82f6b6</td>\n",
              "      <td>1627014624983</td>\n",
              "      <td>db0b2ef0-12c6-4c51-b99b-f305970fd7d9-1sito</td>\n",
              "      <td>351985</td>\n",
              "      <td>38</td>\n",
              "      <td>8gv,8gw,8gl,8gn</td>\n",
              "      <td>1.2</td>\n",
              "      <td>144</td>\n",
              "      <td>64fc6db82ad4018f0758610ef1fba65917906b861c2a7e...</td>\n",
              "      <td>5668678</td>\n",
              "      <td>57779096</td>\n",
              "      <td>1.0</td>\n",
              "      <td>83084</td>\n",
              "      <td>d70f3a72-46d8-4047-9ba0-2</td>\n",
              "      <td>3192</td>\n",
              "      <td>3454.0</td>\n",
              "      <td>11174</td>\n",
              "      <td>1627014625110</td>\n",
              "      <td>2</td>\n",
              "      <td>hql,h7q,oy5,h5x,gk1,nge,h5y,lo4,p1t,o1w,o1v,o1...</td>\n",
              "      <td>6</td>\n",
              "      <td>129311.0</td>\n",
              "      <td>129408.0</td>\n",
              "      <td>322893.0</td>\n",
              "      <td>1807.0</td>\n",
              "      <td>0.0</td>\n",
              "      <td>264496</td>\n",
              "      <td>136127.0</td>\n",
              "      <td>144</td>\n",
              "      <td>17</td>\n",
              "      <td>3619.0</td>\n",
              "      <td>1.627015e+12</td>\n",
              "      <td>1.627010e+12</td>\n",
              "      <td>359921.0</td>\n",
              "      <td>348011</td>\n",
              "      <td>348022.0</td>\n",
              "      <td>2021-07-23T10:00:25.180+05:30</td>\n",
              "      <td>elkblnk3053</td>\n",
              "      <td>NaN</td>\n",
              "      <td>348007.0</td>\n",
              "      <td>NaN</td>\n",
              "      <td>NaN</td>\n",
              "      <td>NaN</td>\n",
              "    </tr>\n",
              "  </tbody>\n",
              "</table>\n",
              "</div>"
            ],
            "text/plain": [
              "                                    callIdentifier  ...  platformId\n",
              "0             5049c657-1f2f-4299-9707-44aa0543ef9d  ...         NaN\n",
              "1  t539n188o6221627014615009a2s8yearnid2tkb9gfp3u8  ...         NaN\n",
              "2   d120L54U8271627014624508g0m51wgkh2t5uwmlhh6sbr  ...         NaN\n",
              "3                                     w676m504k420  ...         NaN\n",
              "4             532b03ad-efe1-4f15-85a3-1f1a850cd01f  ...         NaN\n",
              "\n",
              "[5 rows x 45 columns]"
            ]
          },
          "metadata": {
            "tags": []
          },
          "execution_count": 129
        }
      ]
    },
    {
      "cell_type": "code",
      "metadata": {
        "colab": {
          "base_uri": "https://localhost:8080/"
        },
        "id": "4fsEeuDpZOUU",
        "outputId": "e997d606-2586-4f46-e5dc-1df4259f5430"
      },
      "source": [
        "click_logs.nunique()"
      ],
      "execution_count": 15,
      "outputs": [
        {
          "output_type": "execute_result",
          "data": {
            "text/plain": [
              "imprId                       119607\n",
              "clmbUserId                   114290\n",
              "adSltDimId                     1501\n",
              "auds                          27358\n",
              "allAuds                       70459\n",
              "itemid                         1657\n",
              "algo                             11\n",
              "advClientId                     162\n",
              "pubClientId                     150\n",
              "itmClmbLId                      802\n",
              "tmpltId                         513\n",
              "clickBid                        969\n",
              "clickXForwardedFor           125597\n",
              "section                         869\n",
              "position                       4721\n",
              "siteId                          372\n",
              "callIdentifier               119263\n",
              "crtd                         127041\n",
              "pricingType                       6\n",
              "ctxCatId                        204\n",
              "clickIp                      112946\n",
              "clickGeoId                       23\n",
              "esi                               1\n",
              "adBlockerDetectionValueId         2\n",
              "impressionServedTimeStamp      4394\n",
              "appver                          349\n",
              "ip                           112969\n",
              "geoDimId                         23\n",
              "geoGrpDimId                       9\n",
              "cityDimId                       185\n",
              "cityGrpDimId                      6\n",
              "stateDimId                       97\n",
              "stateGrpDimId                     8\n",
              "ispDimId                        827\n",
              "connTypeDimId                     7\n",
              "userAgent                     29653\n",
              "osDimId                          21\n",
              "osVerDimId                      127\n",
              "devTypeDimId                      6\n",
              "vendorDimId                      98\n",
              "modelDimId                      276\n",
              "browserDimId                     21\n",
              "@timestamp                   127041\n",
              "paid                              1\n",
              "dtype: int64"
            ]
          },
          "metadata": {
            "tags": []
          },
          "execution_count": 15
        }
      ]
    },
    {
      "cell_type": "code",
      "metadata": {
        "colab": {
          "base_uri": "https://localhost:8080/"
        },
        "id": "iOjsQYLzciPx",
        "outputId": "0c7e822a-32f5-4c94-cb72-9a34d8d3b904"
      },
      "source": [
        "conversion_logs.nunique()"
      ],
      "execution_count": 16,
      "outputs": [
        {
          "output_type": "execute_result",
          "data": {
            "text/plain": [
              "callIdentifier                3736\n",
              "clientid                        67\n",
              "clmbuserid                    3604\n",
              "conversiontime                3951\n",
              "imprid                        3769\n",
              "adslotdimid                    493\n",
              "algo                            12\n",
              "audiences                     1454\n",
              "clickbid                        71\n",
              "geodimid                        16\n",
              "ip (hashed)                   3525\n",
              "itemcolumbiaid                 248\n",
              "itemid                         465\n",
              "position                       345\n",
              "pubclientid                    101\n",
              "section                        176\n",
              "siteId                         189\n",
              "templateid                     225\n",
              "goalid                          98\n",
              "time                          3952\n",
              "adLogType                        2\n",
              "allAudiences                  2357\n",
              "pricingtype                      4\n",
              "osId                            16\n",
              "browserId                       15\n",
              "cityId                         118\n",
              "stateId                         56\n",
              "modelDimId                      69\n",
              "connTypeDimId                   14\n",
              "ispDimId                       273\n",
              "countryDimId                    23\n",
              "goalTypeId                      14\n",
              "conversionDurationInMillis    3642\n",
              "impressionTimeInMillis         146\n",
              "clickTimeInMillis               34\n",
              "osVerDimId                      44\n",
              "geoGrpDimId                      8\n",
              "stateGrpDimId                    8\n",
              "@timestamp                    3945\n",
              "host                             9\n",
              "conversionid                   790\n",
              "cityGrpDimId                     6\n",
              "isOrganic                        1\n",
              "deviceId                         4\n",
              "platformId                       4\n",
              "dtype: int64"
            ]
          },
          "metadata": {
            "tags": []
          },
          "execution_count": 16
        }
      ]
    },
    {
      "cell_type": "code",
      "metadata": {
        "id": "7_NdTDM5c9HF"
      },
      "source": [
        "joined_df = pd.merge_ordered(left=conversion_logs,right=click_logs,how='left',left_on=[\"imprid\"],right_on=['imprId'])"
      ],
      "execution_count": 130,
      "outputs": []
    },
    {
      "cell_type": "code",
      "metadata": {
        "colab": {
          "base_uri": "https://localhost:8080/"
        },
        "id": "Mw99CXj5Gvzu",
        "outputId": "1f378ac1-5d16-4c09-bd6f-382fe19d93f2"
      },
      "source": [
        "joined_df.shape"
      ],
      "execution_count": 96,
      "outputs": [
        {
          "output_type": "execute_result",
          "data": {
            "text/plain": [
              "(4183, 89)"
            ]
          },
          "metadata": {
            "tags": []
          },
          "execution_count": 96
        }
      ]
    },
    {
      "cell_type": "code",
      "metadata": {
        "colab": {
          "base_uri": "https://localhost:8080/",
          "height": 602
        },
        "id": "x0Y3ohbp6PhI",
        "outputId": "79d49902-1fc7-4eaa-fcc6-c3f654e4dc4a"
      },
      "source": [
        "joined_df.head()"
      ],
      "execution_count": 131,
      "outputs": [
        {
          "output_type": "execute_result",
          "data": {
            "text/html": [
              "<div>\n",
              "<style scoped>\n",
              "    .dataframe tbody tr th:only-of-type {\n",
              "        vertical-align: middle;\n",
              "    }\n",
              "\n",
              "    .dataframe tbody tr th {\n",
              "        vertical-align: top;\n",
              "    }\n",
              "\n",
              "    .dataframe thead th {\n",
              "        text-align: right;\n",
              "    }\n",
              "</style>\n",
              "<table border=\"1\" class=\"dataframe\">\n",
              "  <thead>\n",
              "    <tr style=\"text-align: right;\">\n",
              "      <th></th>\n",
              "      <th>callIdentifier_x</th>\n",
              "      <th>clientid</th>\n",
              "      <th>clmbuserid</th>\n",
              "      <th>conversiontime</th>\n",
              "      <th>imprid</th>\n",
              "      <th>adslotdimid</th>\n",
              "      <th>algo_x</th>\n",
              "      <th>audiences</th>\n",
              "      <th>clickbid</th>\n",
              "      <th>geodimid</th>\n",
              "      <th>ip (hashed)</th>\n",
              "      <th>itemcolumbiaid</th>\n",
              "      <th>itemid_x</th>\n",
              "      <th>position_x</th>\n",
              "      <th>pubclientid</th>\n",
              "      <th>section_x</th>\n",
              "      <th>siteId_x</th>\n",
              "      <th>templateid</th>\n",
              "      <th>goalid</th>\n",
              "      <th>time</th>\n",
              "      <th>adLogType</th>\n",
              "      <th>allAudiences</th>\n",
              "      <th>pricingtype</th>\n",
              "      <th>osId</th>\n",
              "      <th>browserId</th>\n",
              "      <th>cityId</th>\n",
              "      <th>stateId</th>\n",
              "      <th>modelDimId_x</th>\n",
              "      <th>connTypeDimId_x</th>\n",
              "      <th>ispDimId_x</th>\n",
              "      <th>countryDimId</th>\n",
              "      <th>goalTypeId</th>\n",
              "      <th>conversionDurationInMillis</th>\n",
              "      <th>impressionTimeInMillis</th>\n",
              "      <th>clickTimeInMillis</th>\n",
              "      <th>osVerDimId_x</th>\n",
              "      <th>geoGrpDimId_x</th>\n",
              "      <th>stateGrpDimId_x</th>\n",
              "      <th>@timestamp_x</th>\n",
              "      <th>host</th>\n",
              "      <th>...</th>\n",
              "      <th>allAuds</th>\n",
              "      <th>itemid_y</th>\n",
              "      <th>algo_y</th>\n",
              "      <th>advClientId</th>\n",
              "      <th>pubClientId</th>\n",
              "      <th>itmClmbLId</th>\n",
              "      <th>tmpltId</th>\n",
              "      <th>clickBid</th>\n",
              "      <th>clickXForwardedFor</th>\n",
              "      <th>section_y</th>\n",
              "      <th>position_y</th>\n",
              "      <th>siteId_y</th>\n",
              "      <th>callIdentifier_y</th>\n",
              "      <th>crtd</th>\n",
              "      <th>pricingType</th>\n",
              "      <th>ctxCatId</th>\n",
              "      <th>clickIp</th>\n",
              "      <th>clickGeoId</th>\n",
              "      <th>esi</th>\n",
              "      <th>adBlockerDetectionValueId</th>\n",
              "      <th>impressionServedTimeStamp</th>\n",
              "      <th>appver</th>\n",
              "      <th>ip</th>\n",
              "      <th>geoDimId</th>\n",
              "      <th>geoGrpDimId_y</th>\n",
              "      <th>cityDimId</th>\n",
              "      <th>cityGrpDimId_y</th>\n",
              "      <th>stateDimId</th>\n",
              "      <th>stateGrpDimId_y</th>\n",
              "      <th>ispDimId_y</th>\n",
              "      <th>connTypeDimId_y</th>\n",
              "      <th>userAgent</th>\n",
              "      <th>osDimId</th>\n",
              "      <th>osVerDimId_y</th>\n",
              "      <th>devTypeDimId</th>\n",
              "      <th>vendorDimId</th>\n",
              "      <th>modelDimId_y</th>\n",
              "      <th>browserDimId</th>\n",
              "      <th>@timestamp_y</th>\n",
              "      <th>paid</th>\n",
              "    </tr>\n",
              "  </thead>\n",
              "  <tbody>\n",
              "    <tr>\n",
              "      <th>0</th>\n",
              "      <td>U525q924s850</td>\n",
              "      <td>84348</td>\n",
              "      <td>797e3915-b794-4cc4-85ee-178a1f9c37fb-6mvg</td>\n",
              "      <td>1627018002256</td>\n",
              "      <td>000613b5-dcd1-4699-b271-89bfcabf32fb-6mvg</td>\n",
              "      <td>353395</td>\n",
              "      <td>21</td>\n",
              "      <td>NaN</td>\n",
              "      <td>NaN</td>\n",
              "      <td>128307</td>\n",
              "      <td>34544e1dc0f077d1db4dc8bb0deb88e03e192969b4ad92...</td>\n",
              "      <td>5645186</td>\n",
              "      <td>58116736</td>\n",
              "      <td>5.0</td>\n",
              "      <td>84348</td>\n",
              "      <td>0</td>\n",
              "      <td>3260</td>\n",
              "      <td>6171.0</td>\n",
              "      <td>11034</td>\n",
              "      <td>1627018002354</td>\n",
              "      <td>1</td>\n",
              "      <td>9qh,dzi,9nj,8qu</td>\n",
              "      <td>2</td>\n",
              "      <td>129311.0</td>\n",
              "      <td>129408.0</td>\n",
              "      <td>0.0</td>\n",
              "      <td>350485.0</td>\n",
              "      <td>0.0</td>\n",
              "      <td>264494</td>\n",
              "      <td>133765.0</td>\n",
              "      <td>1022</td>\n",
              "      <td>25</td>\n",
              "      <td>5216972.0</td>\n",
              "      <td>1.627010e+12</td>\n",
              "      <td>NaN</td>\n",
              "      <td>359919.0</td>\n",
              "      <td>348018</td>\n",
              "      <td>NaN</td>\n",
              "      <td>2021-07-23T10:56:42.402+05:30</td>\n",
              "      <td>elkz1ap1741</td>\n",
              "      <td>...</td>\n",
              "      <td>NaN</td>\n",
              "      <td>NaN</td>\n",
              "      <td>NaN</td>\n",
              "      <td>NaN</td>\n",
              "      <td>NaN</td>\n",
              "      <td>NaN</td>\n",
              "      <td>NaN</td>\n",
              "      <td>NaN</td>\n",
              "      <td>NaN</td>\n",
              "      <td>NaN</td>\n",
              "      <td>NaN</td>\n",
              "      <td>NaN</td>\n",
              "      <td>NaN</td>\n",
              "      <td>NaN</td>\n",
              "      <td>NaN</td>\n",
              "      <td>NaN</td>\n",
              "      <td>NaN</td>\n",
              "      <td>NaN</td>\n",
              "      <td>NaN</td>\n",
              "      <td>NaN</td>\n",
              "      <td>NaN</td>\n",
              "      <td>NaN</td>\n",
              "      <td>NaN</td>\n",
              "      <td>NaN</td>\n",
              "      <td>NaN</td>\n",
              "      <td>NaN</td>\n",
              "      <td>NaN</td>\n",
              "      <td>NaN</td>\n",
              "      <td>NaN</td>\n",
              "      <td>NaN</td>\n",
              "      <td>NaN</td>\n",
              "      <td>NaN</td>\n",
              "      <td>NaN</td>\n",
              "      <td>NaN</td>\n",
              "      <td>NaN</td>\n",
              "      <td>NaN</td>\n",
              "      <td>NaN</td>\n",
              "      <td>NaN</td>\n",
              "      <td>NaN</td>\n",
              "      <td>NaN</td>\n",
              "    </tr>\n",
              "    <tr>\n",
              "      <th>1</th>\n",
              "      <td>y748k596B247</td>\n",
              "      <td>84348</td>\n",
              "      <td>ca7f61ca-c961-4c75-9c0c-4f276e0c98a7-10uao</td>\n",
              "      <td>1627016407757</td>\n",
              "      <td>000ea4e7-e393-4e68-8770-13199fa49510-6mvh</td>\n",
              "      <td>353395</td>\n",
              "      <td>6</td>\n",
              "      <td>8gq,8k8,2vk,8gw,joa</td>\n",
              "      <td>NaN</td>\n",
              "      <td>128307</td>\n",
              "      <td>2a449339c5b383c5823be34dc6d1f5fc56cb2b9ba6d1f3...</td>\n",
              "      <td>5645186</td>\n",
              "      <td>58149683</td>\n",
              "      <td>7.0</td>\n",
              "      <td>84348</td>\n",
              "      <td>0</td>\n",
              "      <td>3260</td>\n",
              "      <td>6171.0</td>\n",
              "      <td>11034</td>\n",
              "      <td>1627016407769</td>\n",
              "      <td>1</td>\n",
              "      <td>7dm,hqj,8js,l7n,cy8,l7m,l7r,2wl,r90,2wm,l3r,l3...</td>\n",
              "      <td>2</td>\n",
              "      <td>129311.0</td>\n",
              "      <td>129408.0</td>\n",
              "      <td>0.0</td>\n",
              "      <td>350485.0</td>\n",
              "      <td>0.0</td>\n",
              "      <td>264494</td>\n",
              "      <td>189581.0</td>\n",
              "      <td>1022</td>\n",
              "      <td>25</td>\n",
              "      <td>4217470.0</td>\n",
              "      <td>1.627010e+12</td>\n",
              "      <td>NaN</td>\n",
              "      <td>360833.0</td>\n",
              "      <td>348018</td>\n",
              "      <td>NaN</td>\n",
              "      <td>2021-07-23T10:30:07.825+05:30</td>\n",
              "      <td>elkz1ap1741</td>\n",
              "      <td>...</td>\n",
              "      <td>NaN</td>\n",
              "      <td>NaN</td>\n",
              "      <td>NaN</td>\n",
              "      <td>NaN</td>\n",
              "      <td>NaN</td>\n",
              "      <td>NaN</td>\n",
              "      <td>NaN</td>\n",
              "      <td>NaN</td>\n",
              "      <td>NaN</td>\n",
              "      <td>NaN</td>\n",
              "      <td>NaN</td>\n",
              "      <td>NaN</td>\n",
              "      <td>NaN</td>\n",
              "      <td>NaN</td>\n",
              "      <td>NaN</td>\n",
              "      <td>NaN</td>\n",
              "      <td>NaN</td>\n",
              "      <td>NaN</td>\n",
              "      <td>NaN</td>\n",
              "      <td>NaN</td>\n",
              "      <td>NaN</td>\n",
              "      <td>NaN</td>\n",
              "      <td>NaN</td>\n",
              "      <td>NaN</td>\n",
              "      <td>NaN</td>\n",
              "      <td>NaN</td>\n",
              "      <td>NaN</td>\n",
              "      <td>NaN</td>\n",
              "      <td>NaN</td>\n",
              "      <td>NaN</td>\n",
              "      <td>NaN</td>\n",
              "      <td>NaN</td>\n",
              "      <td>NaN</td>\n",
              "      <td>NaN</td>\n",
              "      <td>NaN</td>\n",
              "      <td>NaN</td>\n",
              "      <td>NaN</td>\n",
              "      <td>NaN</td>\n",
              "      <td>NaN</td>\n",
              "      <td>NaN</td>\n",
              "    </tr>\n",
              "    <tr>\n",
              "      <th>2</th>\n",
              "      <td>E960Y748x6881627016421649ki6vedxmrum2jb56qf00k</td>\n",
              "      <td>66033</td>\n",
              "      <td>9743e1bb-8c3a-4e44-96cd-b4e27e55fc7a-10oic</td>\n",
              "      <td>1627016478795</td>\n",
              "      <td>001f5120-71df-4528-be62-e94d6cca503e-10oic</td>\n",
              "      <td>312462</td>\n",
              "      <td>18</td>\n",
              "      <td>NaN</td>\n",
              "      <td>NaN</td>\n",
              "      <td>144</td>\n",
              "      <td>d6039a36534a6b9b3018ac2447bae3c625712c6f847c2c...</td>\n",
              "      <td>5668439</td>\n",
              "      <td>56700502</td>\n",
              "      <td>1.0</td>\n",
              "      <td>2310</td>\n",
              "      <td>0</td>\n",
              "      <td>767</td>\n",
              "      <td>5446.0</td>\n",
              "      <td>6351</td>\n",
              "      <td>1627016478816</td>\n",
              "      <td>1</td>\n",
              "      <td>9qh,hkf,9nj,9nn,8qu,5xq</td>\n",
              "      <td>16</td>\n",
              "      <td>129311.0</td>\n",
              "      <td>129408.0</td>\n",
              "      <td>437.0</td>\n",
              "      <td>1808.0</td>\n",
              "      <td>0.0</td>\n",
              "      <td>264496</td>\n",
              "      <td>136127.0</td>\n",
              "      <td>144</td>\n",
              "      <td>17</td>\n",
              "      <td>47570.0</td>\n",
              "      <td>1.627020e+12</td>\n",
              "      <td>NaN</td>\n",
              "      <td>206071.0</td>\n",
              "      <td>348011</td>\n",
              "      <td>348020.0</td>\n",
              "      <td>2021-07-23T10:31:18.875+05:30</td>\n",
              "      <td>elkz1ap1735</td>\n",
              "      <td>...</td>\n",
              "      <td>NaN</td>\n",
              "      <td>NaN</td>\n",
              "      <td>NaN</td>\n",
              "      <td>NaN</td>\n",
              "      <td>NaN</td>\n",
              "      <td>NaN</td>\n",
              "      <td>NaN</td>\n",
              "      <td>NaN</td>\n",
              "      <td>NaN</td>\n",
              "      <td>NaN</td>\n",
              "      <td>NaN</td>\n",
              "      <td>NaN</td>\n",
              "      <td>NaN</td>\n",
              "      <td>NaN</td>\n",
              "      <td>NaN</td>\n",
              "      <td>NaN</td>\n",
              "      <td>NaN</td>\n",
              "      <td>NaN</td>\n",
              "      <td>NaN</td>\n",
              "      <td>NaN</td>\n",
              "      <td>NaN</td>\n",
              "      <td>NaN</td>\n",
              "      <td>NaN</td>\n",
              "      <td>NaN</td>\n",
              "      <td>NaN</td>\n",
              "      <td>NaN</td>\n",
              "      <td>NaN</td>\n",
              "      <td>NaN</td>\n",
              "      <td>NaN</td>\n",
              "      <td>NaN</td>\n",
              "      <td>NaN</td>\n",
              "      <td>NaN</td>\n",
              "      <td>NaN</td>\n",
              "      <td>NaN</td>\n",
              "      <td>NaN</td>\n",
              "      <td>NaN</td>\n",
              "      <td>NaN</td>\n",
              "      <td>NaN</td>\n",
              "      <td>NaN</td>\n",
              "      <td>NaN</td>\n",
              "    </tr>\n",
              "    <tr>\n",
              "      <th>3</th>\n",
              "      <td>ff0131ef-ad13-4f0f-80e8-081d206846dc</td>\n",
              "      <td>76808</td>\n",
              "      <td>210c7e02-a5dc-4fe6-8c27-13508d4c8146</td>\n",
              "      <td>1627015729195</td>\n",
              "      <td>002fff64-fc17-402d-8e33-72fc80e206be-10ofk</td>\n",
              "      <td>351985</td>\n",
              "      <td>18</td>\n",
              "      <td>NaN</td>\n",
              "      <td>1.35</td>\n",
              "      <td>144</td>\n",
              "      <td>e93df80a9fa6778ea41c3574455cab27d040b69928adb9...</td>\n",
              "      <td>5671142</td>\n",
              "      <td>44882399</td>\n",
              "      <td>1.0</td>\n",
              "      <td>83084</td>\n",
              "      <td>d70f3a72-46d8-4047-9ba0-2</td>\n",
              "      <td>3192</td>\n",
              "      <td>3454.0</td>\n",
              "      <td>11060</td>\n",
              "      <td>1627015729352</td>\n",
              "      <td>2</td>\n",
              "      <td>9nl</td>\n",
              "      <td>16</td>\n",
              "      <td>129311.0</td>\n",
              "      <td>129408.0</td>\n",
              "      <td>0.0</td>\n",
              "      <td>1803.0</td>\n",
              "      <td>0.0</td>\n",
              "      <td>264496</td>\n",
              "      <td>280429.0</td>\n",
              "      <td>144</td>\n",
              "      <td>17</td>\n",
              "      <td>5166.0</td>\n",
              "      <td>1.627020e+12</td>\n",
              "      <td>1.627020e+12</td>\n",
              "      <td>360833.0</td>\n",
              "      <td>348011</td>\n",
              "      <td>348026.0</td>\n",
              "      <td>2021-07-23T10:18:49.401+05:30</td>\n",
              "      <td>elkz1ap1741</td>\n",
              "      <td>...</td>\n",
              "      <td>9nl</td>\n",
              "      <td>44882399.0</td>\n",
              "      <td>18.0</td>\n",
              "      <td>76808.0</td>\n",
              "      <td>83084.0</td>\n",
              "      <td>5671142.0</td>\n",
              "      <td>3454.0</td>\n",
              "      <td>1.35</td>\n",
              "      <td>2409:4041:2d06:8770::2a0b:510e, 23.64.140.236,...</td>\n",
              "      <td>d70f3a72-46d8-4047-9ba0-2</td>\n",
              "      <td>1.0</td>\n",
              "      <td>3192.0</td>\n",
              "      <td>ff0131ef-ad13-4f0f-80e8-081d206846dc</td>\n",
              "      <td>1.627016e+12</td>\n",
              "      <td>16.0</td>\n",
              "      <td>205415-1</td>\n",
              "      <td>2409:4041:2d06:8770::2a0b:510e</td>\n",
              "      <td>144.0</td>\n",
              "      <td>0.0</td>\n",
              "      <td>1.0</td>\n",
              "      <td>3.0</td>\n",
              "      <td>NaN</td>\n",
              "      <td>49.34.69.215</td>\n",
              "      <td>144.0</td>\n",
              "      <td>348011.0</td>\n",
              "      <td>0.0</td>\n",
              "      <td>NaN</td>\n",
              "      <td>1803.0</td>\n",
              "      <td>348026.0</td>\n",
              "      <td>280429.0</td>\n",
              "      <td>264496.0</td>\n",
              "      <td>Mozilla/5.0 (Linux; Android 10; LM-K420 Build/...</td>\n",
              "      <td>129311.0</td>\n",
              "      <td>360833.0</td>\n",
              "      <td>196041.0</td>\n",
              "      <td>196180.0</td>\n",
              "      <td>0.0</td>\n",
              "      <td>129408.0</td>\n",
              "      <td>2021-07-23T10:18:44.029+05:30</td>\n",
              "      <td>1.0</td>\n",
              "    </tr>\n",
              "    <tr>\n",
              "      <th>4</th>\n",
              "      <td>q377C999I980</td>\n",
              "      <td>84348</td>\n",
              "      <td>4a65f895-7b56-4851-a526-92f893093ed4-10vlw</td>\n",
              "      <td>1627017395891</td>\n",
              "      <td>004931e8-b8a7-4e3f-8176-90754ab48763-10vlw</td>\n",
              "      <td>353395</td>\n",
              "      <td>6</td>\n",
              "      <td>NaN</td>\n",
              "      <td>NaN</td>\n",
              "      <td>128307</td>\n",
              "      <td>ce47426ea9ca5a400508cc65c93b42a92381bb315a7aa4...</td>\n",
              "      <td>5645186</td>\n",
              "      <td>58149683</td>\n",
              "      <td>5.0</td>\n",
              "      <td>84348</td>\n",
              "      <td>0</td>\n",
              "      <td>3260</td>\n",
              "      <td>6171.0</td>\n",
              "      <td>11034</td>\n",
              "      <td>1627017395900</td>\n",
              "      <td>1</td>\n",
              "      <td>9qh,dzi,9nj,8qu</td>\n",
              "      <td>2</td>\n",
              "      <td>129311.0</td>\n",
              "      <td>129408.0</td>\n",
              "      <td>0.0</td>\n",
              "      <td>350485.0</td>\n",
              "      <td>202924.0</td>\n",
              "      <td>264496</td>\n",
              "      <td>150889.0</td>\n",
              "      <td>1022</td>\n",
              "      <td>25</td>\n",
              "      <td>6690219.0</td>\n",
              "      <td>1.627010e+12</td>\n",
              "      <td>NaN</td>\n",
              "      <td>206071.0</td>\n",
              "      <td>348018</td>\n",
              "      <td>NaN</td>\n",
              "      <td>2021-07-23T10:46:35.950+05:30</td>\n",
              "      <td>elkz1ap1741</td>\n",
              "      <td>...</td>\n",
              "      <td>NaN</td>\n",
              "      <td>NaN</td>\n",
              "      <td>NaN</td>\n",
              "      <td>NaN</td>\n",
              "      <td>NaN</td>\n",
              "      <td>NaN</td>\n",
              "      <td>NaN</td>\n",
              "      <td>NaN</td>\n",
              "      <td>NaN</td>\n",
              "      <td>NaN</td>\n",
              "      <td>NaN</td>\n",
              "      <td>NaN</td>\n",
              "      <td>NaN</td>\n",
              "      <td>NaN</td>\n",
              "      <td>NaN</td>\n",
              "      <td>NaN</td>\n",
              "      <td>NaN</td>\n",
              "      <td>NaN</td>\n",
              "      <td>NaN</td>\n",
              "      <td>NaN</td>\n",
              "      <td>NaN</td>\n",
              "      <td>NaN</td>\n",
              "      <td>NaN</td>\n",
              "      <td>NaN</td>\n",
              "      <td>NaN</td>\n",
              "      <td>NaN</td>\n",
              "      <td>NaN</td>\n",
              "      <td>NaN</td>\n",
              "      <td>NaN</td>\n",
              "      <td>NaN</td>\n",
              "      <td>NaN</td>\n",
              "      <td>NaN</td>\n",
              "      <td>NaN</td>\n",
              "      <td>NaN</td>\n",
              "      <td>NaN</td>\n",
              "      <td>NaN</td>\n",
              "      <td>NaN</td>\n",
              "      <td>NaN</td>\n",
              "      <td>NaN</td>\n",
              "      <td>NaN</td>\n",
              "    </tr>\n",
              "  </tbody>\n",
              "</table>\n",
              "<p>5 rows × 89 columns</p>\n",
              "</div>"
            ],
            "text/plain": [
              "                                 callIdentifier_x  ...  paid\n",
              "0                                    U525q924s850  ...   NaN\n",
              "1                                    y748k596B247  ...   NaN\n",
              "2  E960Y748x6881627016421649ki6vedxmrum2jb56qf00k  ...   NaN\n",
              "3            ff0131ef-ad13-4f0f-80e8-081d206846dc  ...   1.0\n",
              "4                                    q377C999I980  ...   NaN\n",
              "\n",
              "[5 rows x 89 columns]"
            ]
          },
          "metadata": {
            "tags": []
          },
          "execution_count": 131
        }
      ]
    },
    {
      "cell_type": "code",
      "metadata": {
        "id": "Xx22eVfcGyPJ"
      },
      "source": [
        "unique_values = joined_df.nunique()"
      ],
      "execution_count": 97,
      "outputs": []
    },
    {
      "cell_type": "code",
      "metadata": {
        "colab": {
          "base_uri": "https://localhost:8080/"
        },
        "id": "BbMRdh4d8ZEy",
        "outputId": "5613c4ec-11cf-4327-a16b-88a5d4ad713b"
      },
      "source": [
        "joined_df[\"siteId_x\"]"
      ],
      "execution_count": 132,
      "outputs": [
        {
          "output_type": "execute_result",
          "data": {
            "text/plain": [
              "0       3260\n",
              "1       3260\n",
              "2        767\n",
              "3       3192\n",
              "4       3260\n",
              "        ... \n",
              "4178     667\n",
              "4179    2923\n",
              "4180    1215\n",
              "4181    1215\n",
              "4182    1217\n",
              "Name: siteId_x, Length: 4183, dtype: int64"
            ]
          },
          "metadata": {
            "tags": []
          },
          "execution_count": 132
        }
      ]
    },
    {
      "cell_type": "code",
      "metadata": {
        "colab": {
          "base_uri": "https://localhost:8080/"
        },
        "id": "sLSSDn5b8pVk",
        "outputId": "7f4d821a-1fce-46f6-893d-372cf9574d3d"
      },
      "source": [
        ""
      ],
      "execution_count": 133,
      "outputs": [
        {
          "output_type": "execute_result",
          "data": {
            "text/plain": [
              "0                                                     NaN\n",
              "1                                                     NaN\n",
              "2                                                     NaN\n",
              "3                                                     NaN\n",
              "4                                                     NaN\n",
              "                              ...                        \n",
              "4178                                                  NaN\n",
              "4179    8l5,jog,3si,2wp,jo3,nqv,jo8,8kg,8kh,7gm,2vb,8g...\n",
              "4180                  2x6,8go,8k6,8kv,8k8,2vk,2vl,8gw,8j1\n",
              "4181                  2x6,8go,8k6,8kv,8k8,2vk,2vl,8gw,8j1\n",
              "4182                                                  NaN\n",
              "Name: auds, Length: 4183, dtype: object"
            ]
          },
          "metadata": {
            "tags": []
          },
          "execution_count": 133
        }
      ]
    },
    {
      "cell_type": "code",
      "metadata": {
        "colab": {
          "base_uri": "https://localhost:8080/"
        },
        "id": "mKGRP6t49O9S",
        "outputId": "66f1273a-724e-47e6-b02c-f45f27bd40b2"
      },
      "source": [
        "joined_df[\"clickbid\"]"
      ],
      "execution_count": 138,
      "outputs": [
        {
          "output_type": "execute_result",
          "data": {
            "text/plain": [
              "0        NaN\n",
              "1        NaN\n",
              "2        NaN\n",
              "3       1.35\n",
              "4        NaN\n",
              "        ... \n",
              "4178     NaN\n",
              "4179    0.90\n",
              "4180    4.95\n",
              "4181    4.95\n",
              "4182     NaN\n",
              "Name: clickbid, Length: 4183, dtype: float64"
            ]
          },
          "metadata": {
            "tags": []
          },
          "execution_count": 138
        }
      ]
    },
    {
      "cell_type": "code",
      "metadata": {
        "colab": {
          "base_uri": "https://localhost:8080/"
        },
        "id": "1k8QTXU-8w5N",
        "outputId": "c29045bc-e149-4678-f372-8defcdcd601e"
      },
      "source": [
        "joined_df[\"ip (hashed)\"]"
      ],
      "execution_count": 135,
      "outputs": [
        {
          "output_type": "execute_result",
          "data": {
            "text/plain": [
              "0       34544e1dc0f077d1db4dc8bb0deb88e03e192969b4ad92...\n",
              "1       2a449339c5b383c5823be34dc6d1f5fc56cb2b9ba6d1f3...\n",
              "2       d6039a36534a6b9b3018ac2447bae3c625712c6f847c2c...\n",
              "3       e93df80a9fa6778ea41c3574455cab27d040b69928adb9...\n",
              "4       ce47426ea9ca5a400508cc65c93b42a92381bb315a7aa4...\n",
              "                              ...                        \n",
              "4178    9c01332f9b44145a87afd35958261c17abb057e3846984...\n",
              "4179    b19bf9a66b80e7bccba5b82a2b43287cc6cab92d47b475...\n",
              "4180    4b08690c7158d5e418d1b6c03bfaa4c3888a070734675c...\n",
              "4181    4b08690c7158d5e418d1b6c03bfaa4c3888a070734675c...\n",
              "4182    026d3b56ae94d55d32f8c805d15aa1eb3a3d1162f3dde4...\n",
              "Name: ip (hashed), Length: 4183, dtype: object"
            ]
          },
          "metadata": {
            "tags": []
          },
          "execution_count": 135
        }
      ]
    },
    {
      "cell_type": "code",
      "metadata": {
        "colab": {
          "base_uri": "https://localhost:8080/"
        },
        "id": "fbTskGwYHMVS",
        "outputId": "de196633-1f4c-4906-dcac-c296247e99c5"
      },
      "source": [
        "for i,val in enumerate(unique_values):\n",
        "  print(joined_df.columns[i] ,\" : \",val)"
      ],
      "execution_count": 98,
      "outputs": [
        {
          "output_type": "stream",
          "text": [
            "callIdentifier_x  :  3736\n",
            "clientid  :  67\n",
            "clmbuserid  :  3604\n",
            "conversiontime  :  3951\n",
            "imprid  :  3769\n",
            "adslotdimid  :  493\n",
            "algo_x  :  12\n",
            "audiences  :  1454\n",
            "clickbid  :  71\n",
            "geodimid  :  16\n",
            "ip (hashed)  :  3525\n",
            "itemcolumbiaid  :  248\n",
            "itemid_x  :  465\n",
            "position_x  :  345\n",
            "pubclientid  :  101\n",
            "section_x  :  176\n",
            "siteId_x  :  189\n",
            "templateid  :  225\n",
            "goalid  :  98\n",
            "time  :  3952\n",
            "adLogType  :  2\n",
            "allAudiences  :  2357\n",
            "pricingtype  :  4\n",
            "osId  :  16\n",
            "browserId  :  15\n",
            "cityId  :  118\n",
            "stateId  :  56\n",
            "modelDimId_x  :  69\n",
            "connTypeDimId_x  :  14\n",
            "ispDimId_x  :  273\n",
            "countryDimId  :  23\n",
            "goalTypeId  :  14\n",
            "conversionDurationInMillis  :  3642\n",
            "impressionTimeInMillis  :  146\n",
            "clickTimeInMillis  :  34\n",
            "osVerDimId_x  :  44\n",
            "geoGrpDimId_x  :  8\n",
            "stateGrpDimId_x  :  8\n",
            "@timestamp_x  :  3945\n",
            "host  :  9\n",
            "conversionid  :  790\n",
            "cityGrpDimId_x  :  6\n",
            "isOrganic  :  1\n",
            "deviceId  :  4\n",
            "platformId  :  4\n",
            "imprId  :  2143\n",
            "clmbUserId  :  2096\n",
            "adSltDimId  :  416\n",
            "auds  :  963\n",
            "allAuds  :  1433\n",
            "itemid_y  :  343\n",
            "algo_y  :  10\n",
            "advClientId  :  69\n",
            "pubClientId  :  91\n",
            "itmClmbLId  :  219\n",
            "tmpltId  :  192\n",
            "clickBid  :  75\n",
            "clickXForwardedFor  :  2221\n",
            "section_y  :  152\n",
            "position_y  :  291\n",
            "siteId_y  :  169\n",
            "callIdentifier_y  :  2137\n",
            "crtd  :  2311\n",
            "pricingType  :  4\n",
            "ctxCatId  :  36\n",
            "clickIp  :  2038\n",
            "clickGeoId  :  10\n",
            "esi  :  1\n",
            "adBlockerDetectionValueId  :  2\n",
            "impressionServedTimeStamp  :  391\n",
            "appver  :  78\n",
            "ip  :  2088\n",
            "geoDimId  :  10\n",
            "geoGrpDimId_y  :  6\n",
            "cityDimId  :  99\n",
            "cityGrpDimId_y  :  6\n",
            "stateDimId  :  43\n",
            "stateGrpDimId_y  :  8\n",
            "ispDimId_y  :  117\n",
            "connTypeDimId_y  :  6\n",
            "userAgent  :  1614\n",
            "osDimId  :  14\n",
            "osVerDimId_y  :  39\n",
            "devTypeDimId  :  4\n",
            "vendorDimId  :  34\n",
            "modelDimId_y  :  47\n",
            "browserDimId  :  15\n",
            "@timestamp_y  :  2311\n",
            "paid  :  1\n"
          ],
          "name": "stdout"
        }
      ]
    },
    {
      "cell_type": "code",
      "metadata": {
        "colab": {
          "base_uri": "https://localhost:8080/"
        },
        "id": "1QVUg6nJ90xq",
        "outputId": "404eda8c-b323-430e-ac22-0e8a6f3d1e0a"
      },
      "source": [
        "joined_df.info()"
      ],
      "execution_count": 139,
      "outputs": [
        {
          "output_type": "stream",
          "text": [
            "<class 'pandas.core.frame.DataFrame'>\n",
            "Int64Index: 4183 entries, 0 to 4182\n",
            "Data columns (total 89 columns):\n",
            " #   Column                      Non-Null Count  Dtype  \n",
            "---  ------                      --------------  -----  \n",
            " 0   callIdentifier_x            4145 non-null   object \n",
            " 1   clientid                    4183 non-null   int64  \n",
            " 2   clmbuserid                  4183 non-null   object \n",
            " 3   conversiontime              4183 non-null   int64  \n",
            " 4   imprid                      4183 non-null   object \n",
            " 5   adslotdimid                 4183 non-null   int64  \n",
            " 6   algo_x                      4183 non-null   int64  \n",
            " 7   audiences                   2419 non-null   object \n",
            " 8   clickbid                    1630 non-null   float64\n",
            " 9   geodimid                    4183 non-null   int64  \n",
            " 10  ip (hashed)                 4138 non-null   object \n",
            " 11  itemcolumbiaid              4183 non-null   int64  \n",
            " 12  itemid_x                    4183 non-null   int64  \n",
            " 13  position_x                  4138 non-null   float64\n",
            " 14  pubclientid                 4183 non-null   int64  \n",
            " 15  section_x                   4183 non-null   object \n",
            " 16  siteId_x                    4183 non-null   int64  \n",
            " 17  templateid                  4041 non-null   float64\n",
            " 18  goalid                      4183 non-null   int64  \n",
            " 19  time                        4183 non-null   int64  \n",
            " 20  adLogType                   4183 non-null   int64  \n",
            " 21  allAudiences                4097 non-null   object \n",
            " 22  pricingtype                 4183 non-null   int64  \n",
            " 23  osId                        4138 non-null   float64\n",
            " 24  browserId                   4138 non-null   float64\n",
            " 25  cityId                      4138 non-null   float64\n",
            " 26  stateId                     4138 non-null   float64\n",
            " 27  modelDimId_x                4138 non-null   float64\n",
            " 28  connTypeDimId_x             4138 non-null   object \n",
            " 29  ispDimId_x                  4138 non-null   float64\n",
            " 30  countryDimId                4183 non-null   int64  \n",
            " 31  goalTypeId                  4183 non-null   int64  \n",
            " 32  conversionDurationInMillis  4138 non-null   float64\n",
            " 33  impressionTimeInMillis      4138 non-null   float64\n",
            " 34  clickTimeInMillis           2524 non-null   float64\n",
            " 35  osVerDimId_x                4138 non-null   float64\n",
            " 36  geoGrpDimId_x               4183 non-null   int64  \n",
            " 37  stateGrpDimId_x             2966 non-null   float64\n",
            " 38  @timestamp_x                4183 non-null   object \n",
            " 39  host                        4183 non-null   object \n",
            " 40  conversionid                890 non-null    object \n",
            " 41  cityGrpDimId_x              2191 non-null   float64\n",
            " 42  isOrganic                   1122 non-null   object \n",
            " 43  deviceId                    1614 non-null   float64\n",
            " 44  platformId                  1614 non-null   float64\n",
            " 45  imprId                      2515 non-null   object \n",
            " 46  clmbUserId                  2515 non-null   object \n",
            " 47  adSltDimId                  2515 non-null   float64\n",
            " 48  auds                        1627 non-null   object \n",
            " 49  allAuds                     2443 non-null   object \n",
            " 50  itemid_y                    2515 non-null   float64\n",
            " 51  algo_y                      2515 non-null   float64\n",
            " 52  advClientId                 2515 non-null   float64\n",
            " 53  pubClientId                 2515 non-null   float64\n",
            " 54  itmClmbLId                  2515 non-null   float64\n",
            " 55  tmpltId                     2418 non-null   float64\n",
            " 56  clickBid                    1638 non-null   float64\n",
            " 57  clickXForwardedFor          2418 non-null   object \n",
            " 58  section_y                   2515 non-null   object \n",
            " 59  position_y                  2515 non-null   float64\n",
            " 60  siteId_y                    2515 non-null   float64\n",
            " 61  callIdentifier_y            2509 non-null   object \n",
            " 62  crtd                        2515 non-null   float64\n",
            " 63  pricingType                 2515 non-null   float64\n",
            " 64  ctxCatId                    2403 non-null   object \n",
            " 65  clickIp                     2418 non-null   object \n",
            " 66  clickGeoId                  2418 non-null   float64\n",
            " 67  esi                         2418 non-null   float64\n",
            " 68  adBlockerDetectionValueId   2418 non-null   float64\n",
            " 69  impressionServedTimeStamp   2379 non-null   float64\n",
            " 70  appver                      402 non-null    object \n",
            " 71  ip                          2515 non-null   object \n",
            " 72  geoDimId                    2515 non-null   float64\n",
            " 73  geoGrpDimId_y               2515 non-null   float64\n",
            " 74  cityDimId                   2515 non-null   float64\n",
            " 75  cityGrpDimId_y              1796 non-null   float64\n",
            " 76  stateDimId                  2515 non-null   float64\n",
            " 77  stateGrpDimId_y             2454 non-null   float64\n",
            " 78  ispDimId_y                  2515 non-null   float64\n",
            " 79  connTypeDimId_y             2515 non-null   float64\n",
            " 80  userAgent                   2515 non-null   object \n",
            " 81  osDimId                     2515 non-null   float64\n",
            " 82  osVerDimId_y                2515 non-null   float64\n",
            " 83  devTypeDimId                2515 non-null   float64\n",
            " 84  vendorDimId                 2515 non-null   float64\n",
            " 85  modelDimId_y                2515 non-null   float64\n",
            " 86  browserDimId                2515 non-null   float64\n",
            " 87  @timestamp_y                2515 non-null   object \n",
            " 88  paid                        2515 non-null   float64\n",
            "dtypes: float64(48), int64(16), object(25)\n",
            "memory usage: 2.9+ MB\n"
          ],
          "name": "stdout"
        }
      ]
    },
    {
      "cell_type": "code",
      "metadata": {
        "colab": {
          "base_uri": "https://localhost:8080/"
        },
        "id": "rIijzvtNDIwG",
        "outputId": "039b6a4b-938e-4a21-f67e-5eb45062c975"
      },
      "source": [
        "joined_df[\"siteId_x\"]"
      ],
      "execution_count": 147,
      "outputs": [
        {
          "output_type": "execute_result",
          "data": {
            "text/plain": [
              "0       3260\n",
              "1       3260\n",
              "2        767\n",
              "3       3192\n",
              "4       3260\n",
              "        ... \n",
              "4178     667\n",
              "4179    2923\n",
              "4180    1215\n",
              "4181    1215\n",
              "4182    1217\n",
              "Name: siteId_x, Length: 4183, dtype: int64"
            ]
          },
          "metadata": {
            "tags": []
          },
          "execution_count": 147
        }
      ]
    },
    {
      "cell_type": "code",
      "metadata": {
        "colab": {
          "base_uri": "https://localhost:8080/"
        },
        "id": "ZU0iim0oBIQ_",
        "outputId": "ea9fe22b-b30a-473f-8cef-bf56cab1ef37"
      },
      "source": [
        ""
      ],
      "execution_count": 149,
      "outputs": [
        {
          "output_type": "execute_result",
          "data": {
            "text/plain": [
              "array([334760, 334758, 334762, 349010, 334761, 334764, 334766])"
            ]
          },
          "metadata": {
            "tags": []
          },
          "execution_count": 149
        }
      ]
    },
    {
      "cell_type": "code",
      "metadata": {
        "colab": {
          "base_uri": "https://localhost:8080/"
        },
        "id": "6mbDYAdJHg5R",
        "outputId": "e372e22b-0c74-49c2-e64a-407e7a4e2a74"
      },
      "source": [
        "joined_df[\"conversiontime\"]"
      ],
      "execution_count": 99,
      "outputs": [
        {
          "output_type": "execute_result",
          "data": {
            "text/plain": [
              "0       1627018002256\n",
              "1       1627016407757\n",
              "2       1627016478795\n",
              "3       1627015729195\n",
              "4       1627017395891\n",
              "            ...      \n",
              "4178    1627016199895\n",
              "4179    1627015091740\n",
              "4180    1627016786995\n",
              "4181    1627016787009\n",
              "4182    1627017315071\n",
              "Name: conversiontime, Length: 4183, dtype: int64"
            ]
          },
          "metadata": {
            "tags": []
          },
          "execution_count": 99
        }
      ]
    },
    {
      "cell_type": "code",
      "metadata": {
        "colab": {
          "base_uri": "https://localhost:8080/"
        },
        "id": "RUvDwvgJJbCS",
        "outputId": "f09c7cff-7371-4704-ddf4-60af0da19918"
      },
      "source": [
        "joined_df[\"@timestamp_x\"]# - joined_df[\"@timestamp_x\"]"
      ],
      "execution_count": 25,
      "outputs": [
        {
          "output_type": "execute_result",
          "data": {
            "text/plain": [
              "0       2021-07-23T10:56:42.402+05:30\n",
              "1       2021-07-23T10:30:07.825+05:30\n",
              "2       2021-07-23T10:31:18.875+05:30\n",
              "3       2021-07-23T10:18:49.401+05:30\n",
              "4       2021-07-23T10:46:35.950+05:30\n",
              "                    ...              \n",
              "4178    2021-07-23T10:26:39.993+05:30\n",
              "4179    2021-07-23T10:08:11.820+05:30\n",
              "4180    2021-07-23T10:36:27.307+05:30\n",
              "4181    2021-07-23T10:36:27.097+05:30\n",
              "4182    2021-07-23T10:45:15.523+05:30\n",
              "Name: @timestamp_x, Length: 4183, dtype: object"
            ]
          },
          "metadata": {
            "tags": []
          },
          "execution_count": 25
        }
      ]
    },
    {
      "cell_type": "code",
      "metadata": {
        "id": "u3wvGAA2Jmmq"
      },
      "source": [
        "import datetime"
      ],
      "execution_count": 100,
      "outputs": []
    },
    {
      "cell_type": "code",
      "metadata": {
        "colab": {
          "base_uri": "https://localhost:8080/"
        },
        "id": "e6NfcFLWKQeF",
        "outputId": "cabb45e6-bbbf-44a1-c8fc-532f41740b54"
      },
      "source": [
        "def string_to_timestep(date_time_str):\n",
        "  if date_time_str == None:\n",
        "    return 0\n",
        "  date_time_str = date_time_str.replace(\":\",\"\")\n",
        "  date_time_obj = datetime.datetime.strptime(date_time_str, '%Y-%m-%dT%H%M%S.%f%z')\n",
        "  timestamp = date_time_obj.replace(tzinfo=timezone.utc).timestamp()\n",
        "  return timestamp\n",
        "\n",
        "print(string_to_timestep(\"2021-07-23T10:56:42.402+05:30\"))"
      ],
      "execution_count": 65,
      "outputs": [
        {
          "output_type": "stream",
          "text": [
            "1627037802.402\n"
          ],
          "name": "stdout"
        }
      ]
    },
    {
      "cell_type": "code",
      "metadata": {
        "colab": {
          "base_uri": "https://localhost:8080/"
        },
        "id": "8QTkiRTVKhKK",
        "outputId": "5d731fa4-5fd8-4ff2-80a2-e5ef71426283"
      },
      "source": [
        "joined_df[\"@timestamp_x\"] - joined_df[\"conversiontime\"] \n"
      ],
      "execution_count": 72,
      "outputs": [
        {
          "output_type": "execute_result",
          "data": {
            "text/plain": [
              "0       19800.146\n",
              "1       19800.068\n",
              "2       19800.080\n",
              "3       19800.206\n",
              "4       19800.059\n",
              "          ...    \n",
              "4178    19800.098\n",
              "4179    19800.080\n",
              "4180    19800.312\n",
              "4181    19800.088\n",
              "4182    19800.452\n",
              "Length: 4183, dtype: float64"
            ]
          },
          "metadata": {
            "tags": []
          },
          "execution_count": 72
        }
      ]
    },
    {
      "cell_type": "code",
      "metadata": {
        "colab": {
          "base_uri": "https://localhost:8080/"
        },
        "id": "vxmpDeavW1lp",
        "outputId": "51a5e6b6-be7b-49df-d822-ab1fdabc15a4"
      },
      "source": [
        "joined_df[\"@timestamp_x\"] - joined_df[\"conversiontime\"]"
      ],
      "execution_count": 78,
      "outputs": [
        {
          "output_type": "execute_result",
          "data": {
            "text/plain": [
              "0       19800.146\n",
              "1       19800.068\n",
              "2       19800.080\n",
              "3       19800.206\n",
              "4       19800.059\n",
              "          ...    \n",
              "4178    19800.098\n",
              "4179    19800.080\n",
              "4180    19800.312\n",
              "4181    19800.088\n",
              "4182    19800.452\n",
              "Length: 4183, dtype: float64"
            ]
          },
          "metadata": {
            "tags": []
          },
          "execution_count": 78
        }
      ]
    },
    {
      "cell_type": "code",
      "metadata": {
        "colab": {
          "base_uri": "https://localhost:8080/"
        },
        "id": "JKVBQ_tvZDbE",
        "outputId": "dece90bf-7536-4397-da89-53003e8a815f"
      },
      "source": [
        "\n",
        "\n",
        "temp1 = joined_df[joined_df[\"clickTimeInMillis\"].isna() == False]\n",
        "temp1[temp1[\"conversiontime\"] - temp1[\"clickTimeInMillis\"] > 0 ].shape\n"
      ],
      "execution_count": 150,
      "outputs": [
        {
          "output_type": "execute_result",
          "data": {
            "text/plain": [
              "(448, 89)"
            ]
          },
          "metadata": {
            "tags": []
          },
          "execution_count": 150
        }
      ]
    },
    {
      "cell_type": "code",
      "metadata": {
        "id": "km1A-I35IDNI"
      },
      "source": [
        "timestamp_check = []\n",
        "for index, row in joined_df.iterrows():\n",
        "  if row[\"impressionTimeInMillis\"]  or row[\"conversiontime\"] :\n",
        "    timestamp_check.append(int(row[\"conversiontime\"] - row[\"clickTimeInMillis\"] > 0))\n",
        "  else:\n",
        "    timestamp_check.append(0)\n",
        "    \n"
      ],
      "execution_count": 154,
      "outputs": []
    },
    {
      "cell_type": "code",
      "metadata": {
        "colab": {
          "base_uri": "https://localhost:8080/"
        },
        "id": "Hij_QNOzKci1",
        "outputId": "bc71c494-1eba-4a39-add8-a0f829d6accb"
      },
      "source": [
        "temp3 = joined_df[joined_df[\"siteId_x\"] == 2923]\n",
        "temp3[\"adslotdimid\"].unique().shape[0]"
      ],
      "execution_count": 165,
      "outputs": [
        {
          "output_type": "execute_result",
          "data": {
            "text/plain": [
              "7"
            ]
          },
          "metadata": {
            "tags": []
          },
          "execution_count": 165
        }
      ]
    },
    {
      "cell_type": "code",
      "metadata": {
        "id": "rXUU_DzAKeOv"
      },
      "source": [
        "adSlot_check = []\n",
        "for index, row in joined_df.iterrows():\n",
        "  if row[\"siteId_x\"]:\n",
        "    t = joined_df[joined_df[\"siteId_x\"] == row[\"siteId_x\"]]\n",
        "    adSlot_check.append(int(t[\"adslotdimid\"].unique().shape[0] < 2))\n",
        "  else:\n",
        "    adSlot_check.append(0)\n"
      ],
      "execution_count": 176,
      "outputs": []
    },
    {
      "cell_type": "code",
      "metadata": {
        "id": "N3aSSoLJMXjQ"
      },
      "source": [
        "joined_df[\"adSlot_check\"] = adSlot_check"
      ],
      "execution_count": 178,
      "outputs": []
    },
    {
      "cell_type": "code",
      "metadata": {
        "id": "nJ_VJNQGJ3_v"
      },
      "source": [
        "joined_df[\"timestamp_check\"] = timestamp_check"
      ],
      "execution_count": 161,
      "outputs": []
    },
    {
      "cell_type": "code",
      "metadata": {
        "colab": {
          "base_uri": "https://localhost:8080/",
          "height": 602
        },
        "id": "0Avm_9v8KQNl",
        "outputId": "a0fa07fd-cd8d-4885-eae9-550a539fb321"
      },
      "source": [
        "joined_df.head()"
      ],
      "execution_count": 179,
      "outputs": [
        {
          "output_type": "execute_result",
          "data": {
            "text/html": [
              "<div>\n",
              "<style scoped>\n",
              "    .dataframe tbody tr th:only-of-type {\n",
              "        vertical-align: middle;\n",
              "    }\n",
              "\n",
              "    .dataframe tbody tr th {\n",
              "        vertical-align: top;\n",
              "    }\n",
              "\n",
              "    .dataframe thead th {\n",
              "        text-align: right;\n",
              "    }\n",
              "</style>\n",
              "<table border=\"1\" class=\"dataframe\">\n",
              "  <thead>\n",
              "    <tr style=\"text-align: right;\">\n",
              "      <th></th>\n",
              "      <th>callIdentifier_x</th>\n",
              "      <th>clientid</th>\n",
              "      <th>clmbuserid</th>\n",
              "      <th>conversiontime</th>\n",
              "      <th>imprid</th>\n",
              "      <th>adslotdimid</th>\n",
              "      <th>algo_x</th>\n",
              "      <th>audiences</th>\n",
              "      <th>clickbid</th>\n",
              "      <th>geodimid</th>\n",
              "      <th>ip (hashed)</th>\n",
              "      <th>itemcolumbiaid</th>\n",
              "      <th>itemid_x</th>\n",
              "      <th>position_x</th>\n",
              "      <th>pubclientid</th>\n",
              "      <th>section_x</th>\n",
              "      <th>siteId_x</th>\n",
              "      <th>templateid</th>\n",
              "      <th>goalid</th>\n",
              "      <th>time</th>\n",
              "      <th>adLogType</th>\n",
              "      <th>allAudiences</th>\n",
              "      <th>pricingtype</th>\n",
              "      <th>osId</th>\n",
              "      <th>browserId</th>\n",
              "      <th>cityId</th>\n",
              "      <th>stateId</th>\n",
              "      <th>modelDimId_x</th>\n",
              "      <th>connTypeDimId_x</th>\n",
              "      <th>ispDimId_x</th>\n",
              "      <th>countryDimId</th>\n",
              "      <th>goalTypeId</th>\n",
              "      <th>conversionDurationInMillis</th>\n",
              "      <th>impressionTimeInMillis</th>\n",
              "      <th>clickTimeInMillis</th>\n",
              "      <th>osVerDimId_x</th>\n",
              "      <th>geoGrpDimId_x</th>\n",
              "      <th>stateGrpDimId_x</th>\n",
              "      <th>@timestamp_x</th>\n",
              "      <th>host</th>\n",
              "      <th>...</th>\n",
              "      <th>algo_y</th>\n",
              "      <th>advClientId</th>\n",
              "      <th>pubClientId</th>\n",
              "      <th>itmClmbLId</th>\n",
              "      <th>tmpltId</th>\n",
              "      <th>clickBid</th>\n",
              "      <th>clickXForwardedFor</th>\n",
              "      <th>section_y</th>\n",
              "      <th>position_y</th>\n",
              "      <th>siteId_y</th>\n",
              "      <th>callIdentifier_y</th>\n",
              "      <th>crtd</th>\n",
              "      <th>pricingType</th>\n",
              "      <th>ctxCatId</th>\n",
              "      <th>clickIp</th>\n",
              "      <th>clickGeoId</th>\n",
              "      <th>esi</th>\n",
              "      <th>adBlockerDetectionValueId</th>\n",
              "      <th>impressionServedTimeStamp</th>\n",
              "      <th>appver</th>\n",
              "      <th>ip</th>\n",
              "      <th>geoDimId</th>\n",
              "      <th>geoGrpDimId_y</th>\n",
              "      <th>cityDimId</th>\n",
              "      <th>cityGrpDimId_y</th>\n",
              "      <th>stateDimId</th>\n",
              "      <th>stateGrpDimId_y</th>\n",
              "      <th>ispDimId_y</th>\n",
              "      <th>connTypeDimId_y</th>\n",
              "      <th>userAgent</th>\n",
              "      <th>osDimId</th>\n",
              "      <th>osVerDimId_y</th>\n",
              "      <th>devTypeDimId</th>\n",
              "      <th>vendorDimId</th>\n",
              "      <th>modelDimId_y</th>\n",
              "      <th>browserDimId</th>\n",
              "      <th>@timestamp_y</th>\n",
              "      <th>paid</th>\n",
              "      <th>timestamp_check</th>\n",
              "      <th>adSlot_check</th>\n",
              "    </tr>\n",
              "  </thead>\n",
              "  <tbody>\n",
              "    <tr>\n",
              "      <th>0</th>\n",
              "      <td>U525q924s850</td>\n",
              "      <td>84348</td>\n",
              "      <td>797e3915-b794-4cc4-85ee-178a1f9c37fb-6mvg</td>\n",
              "      <td>1627018002256</td>\n",
              "      <td>000613b5-dcd1-4699-b271-89bfcabf32fb-6mvg</td>\n",
              "      <td>353395</td>\n",
              "      <td>21</td>\n",
              "      <td>NaN</td>\n",
              "      <td>NaN</td>\n",
              "      <td>128307</td>\n",
              "      <td>34544e1dc0f077d1db4dc8bb0deb88e03e192969b4ad92...</td>\n",
              "      <td>5645186</td>\n",
              "      <td>58116736</td>\n",
              "      <td>5.0</td>\n",
              "      <td>84348</td>\n",
              "      <td>0</td>\n",
              "      <td>3260</td>\n",
              "      <td>6171.0</td>\n",
              "      <td>11034</td>\n",
              "      <td>1627018002354</td>\n",
              "      <td>1</td>\n",
              "      <td>9qh,dzi,9nj,8qu</td>\n",
              "      <td>2</td>\n",
              "      <td>129311.0</td>\n",
              "      <td>129408.0</td>\n",
              "      <td>0.0</td>\n",
              "      <td>350485.0</td>\n",
              "      <td>0.0</td>\n",
              "      <td>264494</td>\n",
              "      <td>133765.0</td>\n",
              "      <td>1022</td>\n",
              "      <td>25</td>\n",
              "      <td>5216972.0</td>\n",
              "      <td>1.627010e+12</td>\n",
              "      <td>NaN</td>\n",
              "      <td>359919.0</td>\n",
              "      <td>348018</td>\n",
              "      <td>NaN</td>\n",
              "      <td>2021-07-23T10:56:42.402+05:30</td>\n",
              "      <td>elkz1ap1741</td>\n",
              "      <td>...</td>\n",
              "      <td>NaN</td>\n",
              "      <td>NaN</td>\n",
              "      <td>NaN</td>\n",
              "      <td>NaN</td>\n",
              "      <td>NaN</td>\n",
              "      <td>NaN</td>\n",
              "      <td>NaN</td>\n",
              "      <td>NaN</td>\n",
              "      <td>NaN</td>\n",
              "      <td>NaN</td>\n",
              "      <td>NaN</td>\n",
              "      <td>NaN</td>\n",
              "      <td>NaN</td>\n",
              "      <td>NaN</td>\n",
              "      <td>NaN</td>\n",
              "      <td>NaN</td>\n",
              "      <td>NaN</td>\n",
              "      <td>NaN</td>\n",
              "      <td>NaN</td>\n",
              "      <td>NaN</td>\n",
              "      <td>NaN</td>\n",
              "      <td>NaN</td>\n",
              "      <td>NaN</td>\n",
              "      <td>NaN</td>\n",
              "      <td>NaN</td>\n",
              "      <td>NaN</td>\n",
              "      <td>NaN</td>\n",
              "      <td>NaN</td>\n",
              "      <td>NaN</td>\n",
              "      <td>NaN</td>\n",
              "      <td>NaN</td>\n",
              "      <td>NaN</td>\n",
              "      <td>NaN</td>\n",
              "      <td>NaN</td>\n",
              "      <td>NaN</td>\n",
              "      <td>NaN</td>\n",
              "      <td>NaN</td>\n",
              "      <td>NaN</td>\n",
              "      <td>0</td>\n",
              "      <td>1</td>\n",
              "    </tr>\n",
              "    <tr>\n",
              "      <th>1</th>\n",
              "      <td>y748k596B247</td>\n",
              "      <td>84348</td>\n",
              "      <td>ca7f61ca-c961-4c75-9c0c-4f276e0c98a7-10uao</td>\n",
              "      <td>1627016407757</td>\n",
              "      <td>000ea4e7-e393-4e68-8770-13199fa49510-6mvh</td>\n",
              "      <td>353395</td>\n",
              "      <td>6</td>\n",
              "      <td>8gq,8k8,2vk,8gw,joa</td>\n",
              "      <td>NaN</td>\n",
              "      <td>128307</td>\n",
              "      <td>2a449339c5b383c5823be34dc6d1f5fc56cb2b9ba6d1f3...</td>\n",
              "      <td>5645186</td>\n",
              "      <td>58149683</td>\n",
              "      <td>7.0</td>\n",
              "      <td>84348</td>\n",
              "      <td>0</td>\n",
              "      <td>3260</td>\n",
              "      <td>6171.0</td>\n",
              "      <td>11034</td>\n",
              "      <td>1627016407769</td>\n",
              "      <td>1</td>\n",
              "      <td>7dm,hqj,8js,l7n,cy8,l7m,l7r,2wl,r90,2wm,l3r,l3...</td>\n",
              "      <td>2</td>\n",
              "      <td>129311.0</td>\n",
              "      <td>129408.0</td>\n",
              "      <td>0.0</td>\n",
              "      <td>350485.0</td>\n",
              "      <td>0.0</td>\n",
              "      <td>264494</td>\n",
              "      <td>189581.0</td>\n",
              "      <td>1022</td>\n",
              "      <td>25</td>\n",
              "      <td>4217470.0</td>\n",
              "      <td>1.627010e+12</td>\n",
              "      <td>NaN</td>\n",
              "      <td>360833.0</td>\n",
              "      <td>348018</td>\n",
              "      <td>NaN</td>\n",
              "      <td>2021-07-23T10:30:07.825+05:30</td>\n",
              "      <td>elkz1ap1741</td>\n",
              "      <td>...</td>\n",
              "      <td>NaN</td>\n",
              "      <td>NaN</td>\n",
              "      <td>NaN</td>\n",
              "      <td>NaN</td>\n",
              "      <td>NaN</td>\n",
              "      <td>NaN</td>\n",
              "      <td>NaN</td>\n",
              "      <td>NaN</td>\n",
              "      <td>NaN</td>\n",
              "      <td>NaN</td>\n",
              "      <td>NaN</td>\n",
              "      <td>NaN</td>\n",
              "      <td>NaN</td>\n",
              "      <td>NaN</td>\n",
              "      <td>NaN</td>\n",
              "      <td>NaN</td>\n",
              "      <td>NaN</td>\n",
              "      <td>NaN</td>\n",
              "      <td>NaN</td>\n",
              "      <td>NaN</td>\n",
              "      <td>NaN</td>\n",
              "      <td>NaN</td>\n",
              "      <td>NaN</td>\n",
              "      <td>NaN</td>\n",
              "      <td>NaN</td>\n",
              "      <td>NaN</td>\n",
              "      <td>NaN</td>\n",
              "      <td>NaN</td>\n",
              "      <td>NaN</td>\n",
              "      <td>NaN</td>\n",
              "      <td>NaN</td>\n",
              "      <td>NaN</td>\n",
              "      <td>NaN</td>\n",
              "      <td>NaN</td>\n",
              "      <td>NaN</td>\n",
              "      <td>NaN</td>\n",
              "      <td>NaN</td>\n",
              "      <td>NaN</td>\n",
              "      <td>0</td>\n",
              "      <td>1</td>\n",
              "    </tr>\n",
              "    <tr>\n",
              "      <th>2</th>\n",
              "      <td>E960Y748x6881627016421649ki6vedxmrum2jb56qf00k</td>\n",
              "      <td>66033</td>\n",
              "      <td>9743e1bb-8c3a-4e44-96cd-b4e27e55fc7a-10oic</td>\n",
              "      <td>1627016478795</td>\n",
              "      <td>001f5120-71df-4528-be62-e94d6cca503e-10oic</td>\n",
              "      <td>312462</td>\n",
              "      <td>18</td>\n",
              "      <td>NaN</td>\n",
              "      <td>NaN</td>\n",
              "      <td>144</td>\n",
              "      <td>d6039a36534a6b9b3018ac2447bae3c625712c6f847c2c...</td>\n",
              "      <td>5668439</td>\n",
              "      <td>56700502</td>\n",
              "      <td>1.0</td>\n",
              "      <td>2310</td>\n",
              "      <td>0</td>\n",
              "      <td>767</td>\n",
              "      <td>5446.0</td>\n",
              "      <td>6351</td>\n",
              "      <td>1627016478816</td>\n",
              "      <td>1</td>\n",
              "      <td>9qh,hkf,9nj,9nn,8qu,5xq</td>\n",
              "      <td>16</td>\n",
              "      <td>129311.0</td>\n",
              "      <td>129408.0</td>\n",
              "      <td>437.0</td>\n",
              "      <td>1808.0</td>\n",
              "      <td>0.0</td>\n",
              "      <td>264496</td>\n",
              "      <td>136127.0</td>\n",
              "      <td>144</td>\n",
              "      <td>17</td>\n",
              "      <td>47570.0</td>\n",
              "      <td>1.627020e+12</td>\n",
              "      <td>NaN</td>\n",
              "      <td>206071.0</td>\n",
              "      <td>348011</td>\n",
              "      <td>348020.0</td>\n",
              "      <td>2021-07-23T10:31:18.875+05:30</td>\n",
              "      <td>elkz1ap1735</td>\n",
              "      <td>...</td>\n",
              "      <td>NaN</td>\n",
              "      <td>NaN</td>\n",
              "      <td>NaN</td>\n",
              "      <td>NaN</td>\n",
              "      <td>NaN</td>\n",
              "      <td>NaN</td>\n",
              "      <td>NaN</td>\n",
              "      <td>NaN</td>\n",
              "      <td>NaN</td>\n",
              "      <td>NaN</td>\n",
              "      <td>NaN</td>\n",
              "      <td>NaN</td>\n",
              "      <td>NaN</td>\n",
              "      <td>NaN</td>\n",
              "      <td>NaN</td>\n",
              "      <td>NaN</td>\n",
              "      <td>NaN</td>\n",
              "      <td>NaN</td>\n",
              "      <td>NaN</td>\n",
              "      <td>NaN</td>\n",
              "      <td>NaN</td>\n",
              "      <td>NaN</td>\n",
              "      <td>NaN</td>\n",
              "      <td>NaN</td>\n",
              "      <td>NaN</td>\n",
              "      <td>NaN</td>\n",
              "      <td>NaN</td>\n",
              "      <td>NaN</td>\n",
              "      <td>NaN</td>\n",
              "      <td>NaN</td>\n",
              "      <td>NaN</td>\n",
              "      <td>NaN</td>\n",
              "      <td>NaN</td>\n",
              "      <td>NaN</td>\n",
              "      <td>NaN</td>\n",
              "      <td>NaN</td>\n",
              "      <td>NaN</td>\n",
              "      <td>NaN</td>\n",
              "      <td>0</td>\n",
              "      <td>0</td>\n",
              "    </tr>\n",
              "    <tr>\n",
              "      <th>3</th>\n",
              "      <td>ff0131ef-ad13-4f0f-80e8-081d206846dc</td>\n",
              "      <td>76808</td>\n",
              "      <td>210c7e02-a5dc-4fe6-8c27-13508d4c8146</td>\n",
              "      <td>1627015729195</td>\n",
              "      <td>002fff64-fc17-402d-8e33-72fc80e206be-10ofk</td>\n",
              "      <td>351985</td>\n",
              "      <td>18</td>\n",
              "      <td>NaN</td>\n",
              "      <td>1.35</td>\n",
              "      <td>144</td>\n",
              "      <td>e93df80a9fa6778ea41c3574455cab27d040b69928adb9...</td>\n",
              "      <td>5671142</td>\n",
              "      <td>44882399</td>\n",
              "      <td>1.0</td>\n",
              "      <td>83084</td>\n",
              "      <td>d70f3a72-46d8-4047-9ba0-2</td>\n",
              "      <td>3192</td>\n",
              "      <td>3454.0</td>\n",
              "      <td>11060</td>\n",
              "      <td>1627015729352</td>\n",
              "      <td>2</td>\n",
              "      <td>9nl</td>\n",
              "      <td>16</td>\n",
              "      <td>129311.0</td>\n",
              "      <td>129408.0</td>\n",
              "      <td>0.0</td>\n",
              "      <td>1803.0</td>\n",
              "      <td>0.0</td>\n",
              "      <td>264496</td>\n",
              "      <td>280429.0</td>\n",
              "      <td>144</td>\n",
              "      <td>17</td>\n",
              "      <td>5166.0</td>\n",
              "      <td>1.627020e+12</td>\n",
              "      <td>1.627020e+12</td>\n",
              "      <td>360833.0</td>\n",
              "      <td>348011</td>\n",
              "      <td>348026.0</td>\n",
              "      <td>2021-07-23T10:18:49.401+05:30</td>\n",
              "      <td>elkz1ap1741</td>\n",
              "      <td>...</td>\n",
              "      <td>18.0</td>\n",
              "      <td>76808.0</td>\n",
              "      <td>83084.0</td>\n",
              "      <td>5671142.0</td>\n",
              "      <td>3454.0</td>\n",
              "      <td>1.35</td>\n",
              "      <td>2409:4041:2d06:8770::2a0b:510e, 23.64.140.236,...</td>\n",
              "      <td>d70f3a72-46d8-4047-9ba0-2</td>\n",
              "      <td>1.0</td>\n",
              "      <td>3192.0</td>\n",
              "      <td>ff0131ef-ad13-4f0f-80e8-081d206846dc</td>\n",
              "      <td>1.627016e+12</td>\n",
              "      <td>16.0</td>\n",
              "      <td>205415-1</td>\n",
              "      <td>2409:4041:2d06:8770::2a0b:510e</td>\n",
              "      <td>144.0</td>\n",
              "      <td>0.0</td>\n",
              "      <td>1.0</td>\n",
              "      <td>3.0</td>\n",
              "      <td>NaN</td>\n",
              "      <td>49.34.69.215</td>\n",
              "      <td>144.0</td>\n",
              "      <td>348011.0</td>\n",
              "      <td>0.0</td>\n",
              "      <td>NaN</td>\n",
              "      <td>1803.0</td>\n",
              "      <td>348026.0</td>\n",
              "      <td>280429.0</td>\n",
              "      <td>264496.0</td>\n",
              "      <td>Mozilla/5.0 (Linux; Android 10; LM-K420 Build/...</td>\n",
              "      <td>129311.0</td>\n",
              "      <td>360833.0</td>\n",
              "      <td>196041.0</td>\n",
              "      <td>196180.0</td>\n",
              "      <td>0.0</td>\n",
              "      <td>129408.0</td>\n",
              "      <td>2021-07-23T10:18:44.029+05:30</td>\n",
              "      <td>1.0</td>\n",
              "      <td>0</td>\n",
              "      <td>1</td>\n",
              "    </tr>\n",
              "    <tr>\n",
              "      <th>4</th>\n",
              "      <td>q377C999I980</td>\n",
              "      <td>84348</td>\n",
              "      <td>4a65f895-7b56-4851-a526-92f893093ed4-10vlw</td>\n",
              "      <td>1627017395891</td>\n",
              "      <td>004931e8-b8a7-4e3f-8176-90754ab48763-10vlw</td>\n",
              "      <td>353395</td>\n",
              "      <td>6</td>\n",
              "      <td>NaN</td>\n",
              "      <td>NaN</td>\n",
              "      <td>128307</td>\n",
              "      <td>ce47426ea9ca5a400508cc65c93b42a92381bb315a7aa4...</td>\n",
              "      <td>5645186</td>\n",
              "      <td>58149683</td>\n",
              "      <td>5.0</td>\n",
              "      <td>84348</td>\n",
              "      <td>0</td>\n",
              "      <td>3260</td>\n",
              "      <td>6171.0</td>\n",
              "      <td>11034</td>\n",
              "      <td>1627017395900</td>\n",
              "      <td>1</td>\n",
              "      <td>9qh,dzi,9nj,8qu</td>\n",
              "      <td>2</td>\n",
              "      <td>129311.0</td>\n",
              "      <td>129408.0</td>\n",
              "      <td>0.0</td>\n",
              "      <td>350485.0</td>\n",
              "      <td>202924.0</td>\n",
              "      <td>264496</td>\n",
              "      <td>150889.0</td>\n",
              "      <td>1022</td>\n",
              "      <td>25</td>\n",
              "      <td>6690219.0</td>\n",
              "      <td>1.627010e+12</td>\n",
              "      <td>NaN</td>\n",
              "      <td>206071.0</td>\n",
              "      <td>348018</td>\n",
              "      <td>NaN</td>\n",
              "      <td>2021-07-23T10:46:35.950+05:30</td>\n",
              "      <td>elkz1ap1741</td>\n",
              "      <td>...</td>\n",
              "      <td>NaN</td>\n",
              "      <td>NaN</td>\n",
              "      <td>NaN</td>\n",
              "      <td>NaN</td>\n",
              "      <td>NaN</td>\n",
              "      <td>NaN</td>\n",
              "      <td>NaN</td>\n",
              "      <td>NaN</td>\n",
              "      <td>NaN</td>\n",
              "      <td>NaN</td>\n",
              "      <td>NaN</td>\n",
              "      <td>NaN</td>\n",
              "      <td>NaN</td>\n",
              "      <td>NaN</td>\n",
              "      <td>NaN</td>\n",
              "      <td>NaN</td>\n",
              "      <td>NaN</td>\n",
              "      <td>NaN</td>\n",
              "      <td>NaN</td>\n",
              "      <td>NaN</td>\n",
              "      <td>NaN</td>\n",
              "      <td>NaN</td>\n",
              "      <td>NaN</td>\n",
              "      <td>NaN</td>\n",
              "      <td>NaN</td>\n",
              "      <td>NaN</td>\n",
              "      <td>NaN</td>\n",
              "      <td>NaN</td>\n",
              "      <td>NaN</td>\n",
              "      <td>NaN</td>\n",
              "      <td>NaN</td>\n",
              "      <td>NaN</td>\n",
              "      <td>NaN</td>\n",
              "      <td>NaN</td>\n",
              "      <td>NaN</td>\n",
              "      <td>NaN</td>\n",
              "      <td>NaN</td>\n",
              "      <td>NaN</td>\n",
              "      <td>0</td>\n",
              "      <td>1</td>\n",
              "    </tr>\n",
              "  </tbody>\n",
              "</table>\n",
              "<p>5 rows × 91 columns</p>\n",
              "</div>"
            ],
            "text/plain": [
              "                                 callIdentifier_x  ...  adSlot_check\n",
              "0                                    U525q924s850  ...             1\n",
              "1                                    y748k596B247  ...             1\n",
              "2  E960Y748x6881627016421649ki6vedxmrum2jb56qf00k  ...             0\n",
              "3            ff0131ef-ad13-4f0f-80e8-081d206846dc  ...             1\n",
              "4                                    q377C999I980  ...             1\n",
              "\n",
              "[5 rows x 91 columns]"
            ]
          },
          "metadata": {
            "tags": []
          },
          "execution_count": 179
        }
      ]
    },
    {
      "cell_type": "code",
      "metadata": {
        "colab": {
          "base_uri": "https://localhost:8080/"
        },
        "id": "HLx8uwsfjDQ5",
        "outputId": "feb5775a-3a29-4e6f-b1d4-5ecabd8f1dcc"
      },
      "source": [
        "temp2 = joined_df[joined_df[\"impressionTimeInMillis\"].isna() == False]\n",
        "temp2[(temp2[\"conversiontime\"] - temp1[\"impressionTimeInMillis\"]) > 0].shape\n"
      ],
      "execution_count": 151,
      "outputs": [
        {
          "output_type": "execute_result",
          "data": {
            "text/plain": [
              "(589, 89)"
            ]
          },
          "metadata": {
            "tags": []
          },
          "execution_count": 151
        }
      ]
    },
    {
      "cell_type": "code",
      "metadata": {
        "colab": {
          "base_uri": "https://localhost:8080/"
        },
        "id": "H9GxeJvVb1U8",
        "outputId": "a44514a8-d2fb-4dca-b691-be8a1fe3cf66"
      },
      "source": [
        "temp1[\"clickTimeInMillis\"][3]"
      ],
      "execution_count": 105,
      "outputs": [
        {
          "output_type": "execute_result",
          "data": {
            "text/plain": [
              "1627020000000.0"
            ]
          },
          "metadata": {
            "tags": []
          },
          "execution_count": 105
        }
      ]
    },
    {
      "cell_type": "code",
      "metadata": {
        "colab": {
          "base_uri": "https://localhost:8080/"
        },
        "id": "vgEQwP6jPvgW",
        "outputId": "9acfc55b-f076-486c-a3e3-1129184ef185"
      },
      "source": [
        "joined_df.info()"
      ],
      "execution_count": 180,
      "outputs": [
        {
          "output_type": "stream",
          "text": [
            "<class 'pandas.core.frame.DataFrame'>\n",
            "Int64Index: 4183 entries, 0 to 4182\n",
            "Data columns (total 91 columns):\n",
            " #   Column                      Non-Null Count  Dtype  \n",
            "---  ------                      --------------  -----  \n",
            " 0   callIdentifier_x            4145 non-null   object \n",
            " 1   clientid                    4183 non-null   int64  \n",
            " 2   clmbuserid                  4183 non-null   object \n",
            " 3   conversiontime              4183 non-null   int64  \n",
            " 4   imprid                      4183 non-null   object \n",
            " 5   adslotdimid                 4183 non-null   int64  \n",
            " 6   algo_x                      4183 non-null   int64  \n",
            " 7   audiences                   2419 non-null   object \n",
            " 8   clickbid                    1630 non-null   float64\n",
            " 9   geodimid                    4183 non-null   int64  \n",
            " 10  ip (hashed)                 4138 non-null   object \n",
            " 11  itemcolumbiaid              4183 non-null   int64  \n",
            " 12  itemid_x                    4183 non-null   int64  \n",
            " 13  position_x                  4138 non-null   float64\n",
            " 14  pubclientid                 4183 non-null   int64  \n",
            " 15  section_x                   4183 non-null   object \n",
            " 16  siteId_x                    4183 non-null   int64  \n",
            " 17  templateid                  4041 non-null   float64\n",
            " 18  goalid                      4183 non-null   int64  \n",
            " 19  time                        4183 non-null   int64  \n",
            " 20  adLogType                   4183 non-null   int64  \n",
            " 21  allAudiences                4097 non-null   object \n",
            " 22  pricingtype                 4183 non-null   int64  \n",
            " 23  osId                        4138 non-null   float64\n",
            " 24  browserId                   4138 non-null   float64\n",
            " 25  cityId                      4138 non-null   float64\n",
            " 26  stateId                     4138 non-null   float64\n",
            " 27  modelDimId_x                4138 non-null   float64\n",
            " 28  connTypeDimId_x             4138 non-null   object \n",
            " 29  ispDimId_x                  4138 non-null   float64\n",
            " 30  countryDimId                4183 non-null   int64  \n",
            " 31  goalTypeId                  4183 non-null   int64  \n",
            " 32  conversionDurationInMillis  4138 non-null   float64\n",
            " 33  impressionTimeInMillis      4138 non-null   float64\n",
            " 34  clickTimeInMillis           2524 non-null   float64\n",
            " 35  osVerDimId_x                4138 non-null   float64\n",
            " 36  geoGrpDimId_x               4183 non-null   int64  \n",
            " 37  stateGrpDimId_x             2966 non-null   float64\n",
            " 38  @timestamp_x                4183 non-null   object \n",
            " 39  host                        4183 non-null   object \n",
            " 40  conversionid                890 non-null    object \n",
            " 41  cityGrpDimId_x              2191 non-null   float64\n",
            " 42  isOrganic                   1122 non-null   object \n",
            " 43  deviceId                    1614 non-null   float64\n",
            " 44  platformId                  1614 non-null   float64\n",
            " 45  imprId                      2515 non-null   object \n",
            " 46  clmbUserId                  2515 non-null   object \n",
            " 47  adSltDimId                  2515 non-null   float64\n",
            " 48  auds                        1627 non-null   object \n",
            " 49  allAuds                     2443 non-null   object \n",
            " 50  itemid_y                    2515 non-null   float64\n",
            " 51  algo_y                      2515 non-null   float64\n",
            " 52  advClientId                 2515 non-null   float64\n",
            " 53  pubClientId                 2515 non-null   float64\n",
            " 54  itmClmbLId                  2515 non-null   float64\n",
            " 55  tmpltId                     2418 non-null   float64\n",
            " 56  clickBid                    1638 non-null   float64\n",
            " 57  clickXForwardedFor          2418 non-null   object \n",
            " 58  section_y                   2515 non-null   object \n",
            " 59  position_y                  2515 non-null   float64\n",
            " 60  siteId_y                    2515 non-null   float64\n",
            " 61  callIdentifier_y            2509 non-null   object \n",
            " 62  crtd                        2515 non-null   float64\n",
            " 63  pricingType                 2515 non-null   float64\n",
            " 64  ctxCatId                    2403 non-null   object \n",
            " 65  clickIp                     2418 non-null   object \n",
            " 66  clickGeoId                  2418 non-null   float64\n",
            " 67  esi                         2418 non-null   float64\n",
            " 68  adBlockerDetectionValueId   2418 non-null   float64\n",
            " 69  impressionServedTimeStamp   2379 non-null   float64\n",
            " 70  appver                      402 non-null    object \n",
            " 71  ip                          2515 non-null   object \n",
            " 72  geoDimId                    2515 non-null   float64\n",
            " 73  geoGrpDimId_y               2515 non-null   float64\n",
            " 74  cityDimId                   2515 non-null   float64\n",
            " 75  cityGrpDimId_y              1796 non-null   float64\n",
            " 76  stateDimId                  2515 non-null   float64\n",
            " 77  stateGrpDimId_y             2454 non-null   float64\n",
            " 78  ispDimId_y                  2515 non-null   float64\n",
            " 79  connTypeDimId_y             2515 non-null   float64\n",
            " 80  userAgent                   2515 non-null   object \n",
            " 81  osDimId                     2515 non-null   float64\n",
            " 82  osVerDimId_y                2515 non-null   float64\n",
            " 83  devTypeDimId                2515 non-null   float64\n",
            " 84  vendorDimId                 2515 non-null   float64\n",
            " 85  modelDimId_y                2515 non-null   float64\n",
            " 86  browserDimId                2515 non-null   float64\n",
            " 87  @timestamp_y                2515 non-null   object \n",
            " 88  paid                        2515 non-null   float64\n",
            " 89  timestamp_check             4183 non-null   int64  \n",
            " 90  adSlot_check                4183 non-null   int64  \n",
            "dtypes: float64(48), int64(18), object(25)\n",
            "memory usage: 2.9+ MB\n"
          ],
          "name": "stdout"
        }
      ]
    },
    {
      "cell_type": "code",
      "metadata": {
        "colab": {
          "base_uri": "https://localhost:8080/"
        },
        "id": "x8D5e5wwQ4B3",
        "outputId": "5a594701-8b69-469f-b6d0-e5e403a89853"
      },
      "source": [
        "unique_values = joined_df.nunique()\n",
        "for i,val in enumerate(unique_values):\n",
        "  print(i,\" \",joined_df.columns[i] ,\" : \",val)"
      ],
      "execution_count": 184,
      "outputs": [
        {
          "output_type": "stream",
          "text": [
            "0   callIdentifier_x  :  3736\n",
            "1   clientid  :  67\n",
            "2   clmbuserid  :  3604\n",
            "3   conversiontime  :  3951\n",
            "4   imprid  :  3769\n",
            "5   adslotdimid  :  493\n",
            "6   algo_x  :  12\n",
            "7   audiences  :  1454\n",
            "8   clickbid  :  71\n",
            "9   geodimid  :  16\n",
            "10   ip (hashed)  :  3525\n",
            "11   itemcolumbiaid  :  248\n",
            "12   itemid_x  :  465\n",
            "13   position_x  :  345\n",
            "14   pubclientid  :  101\n",
            "15   section_x  :  176\n",
            "16   siteId_x  :  189\n",
            "17   templateid  :  225\n",
            "18   goalid  :  98\n",
            "19   time  :  3952\n",
            "20   adLogType  :  2\n",
            "21   allAudiences  :  2357\n",
            "22   pricingtype  :  4\n",
            "23   osId  :  16\n",
            "24   browserId  :  15\n",
            "25   cityId  :  118\n",
            "26   stateId  :  56\n",
            "27   modelDimId_x  :  69\n",
            "28   connTypeDimId_x  :  14\n",
            "29   ispDimId_x  :  273\n",
            "30   countryDimId  :  23\n",
            "31   goalTypeId  :  14\n",
            "32   conversionDurationInMillis  :  3642\n",
            "33   impressionTimeInMillis  :  146\n",
            "34   clickTimeInMillis  :  34\n",
            "35   osVerDimId_x  :  44\n",
            "36   geoGrpDimId_x  :  8\n",
            "37   stateGrpDimId_x  :  8\n",
            "38   @timestamp_x  :  3945\n",
            "39   host  :  9\n",
            "40   conversionid  :  790\n",
            "41   cityGrpDimId_x  :  6\n",
            "42   isOrganic  :  1\n",
            "43   deviceId  :  4\n",
            "44   platformId  :  4\n",
            "45   imprId  :  2143\n",
            "46   clmbUserId  :  2096\n",
            "47   adSltDimId  :  416\n",
            "48   auds  :  963\n",
            "49   allAuds  :  1433\n",
            "50   itemid_y  :  343\n",
            "51   algo_y  :  10\n",
            "52   advClientId  :  69\n",
            "53   pubClientId  :  91\n",
            "54   itmClmbLId  :  219\n",
            "55   tmpltId  :  192\n",
            "56   clickBid  :  75\n",
            "57   clickXForwardedFor  :  2221\n",
            "58   section_y  :  152\n",
            "59   position_y  :  291\n",
            "60   siteId_y  :  169\n",
            "61   callIdentifier_y  :  2137\n",
            "62   crtd  :  2311\n",
            "63   pricingType  :  4\n",
            "64   ctxCatId  :  36\n",
            "65   clickIp  :  2038\n",
            "66   clickGeoId  :  10\n",
            "67   esi  :  1\n",
            "68   adBlockerDetectionValueId  :  2\n",
            "69   impressionServedTimeStamp  :  391\n",
            "70   appver  :  78\n",
            "71   ip  :  2088\n",
            "72   geoDimId  :  10\n",
            "73   geoGrpDimId_y  :  6\n",
            "74   cityDimId  :  99\n",
            "75   cityGrpDimId_y  :  6\n",
            "76   stateDimId  :  43\n",
            "77   stateGrpDimId_y  :  8\n",
            "78   ispDimId_y  :  117\n",
            "79   connTypeDimId_y  :  6\n",
            "80   userAgent  :  1614\n",
            "81   osDimId  :  14\n",
            "82   osVerDimId_y  :  39\n",
            "83   devTypeDimId  :  4\n",
            "84   vendorDimId  :  34\n",
            "85   modelDimId_y  :  47\n",
            "86   browserDimId  :  15\n",
            "87   @timestamp_y  :  2311\n",
            "88   paid  :  1\n",
            "89   timestamp_check  :  2\n",
            "90   adSlot_check  :  2\n"
          ],
          "name": "stdout"
        }
      ]
    },
    {
      "cell_type": "code",
      "metadata": {
        "id": "CHycTdoGPU24"
      },
      "source": [
        "features_nums = [1,3,6,8,9,11,16,19,20,22,23,27,28,30,31,36,44,52,53,63,68,32,33,34,69]\n",
        "features_to_normalize = [3,19,32,33,34,69]\n",
        "features_to_encode = list(filter(lambda x: x not in features_to_normalize,features_nums))"
      ],
      "execution_count": 191,
      "outputs": []
    },
    {
      "cell_type": "code",
      "metadata": {
        "id": "uzvTgtmnO8Fc"
      },
      "source": [
        "cols = []\n",
        "for col in features_nums:\n",
        "  cols.append(joined_df.columns[col])\n",
        "\n",
        "\n",
        "df = joined_df[cols]\n",
        "\n",
        "#df = joined_df[list(map(,joined_df.columns))]"
      ],
      "execution_count": 197,
      "outputs": []
    },
    {
      "cell_type": "code",
      "metadata": {
        "colab": {
          "base_uri": "https://localhost:8080/"
        },
        "id": "AiZ28LAYPBFS",
        "outputId": "c9f4252e-1ba3-4771-e755-c46285c89733"
      },
      "source": [
        "df.info()"
      ],
      "execution_count": 199,
      "outputs": [
        {
          "output_type": "stream",
          "text": [
            "<class 'pandas.core.frame.DataFrame'>\n",
            "Int64Index: 4183 entries, 0 to 4182\n",
            "Data columns (total 25 columns):\n",
            " #   Column                      Non-Null Count  Dtype  \n",
            "---  ------                      --------------  -----  \n",
            " 0   clientid                    4183 non-null   int64  \n",
            " 1   conversiontime              4183 non-null   int64  \n",
            " 2   algo_x                      4183 non-null   int64  \n",
            " 3   clickbid                    1630 non-null   float64\n",
            " 4   geodimid                    4183 non-null   int64  \n",
            " 5   itemcolumbiaid              4183 non-null   int64  \n",
            " 6   siteId_x                    4183 non-null   int64  \n",
            " 7   time                        4183 non-null   int64  \n",
            " 8   adLogType                   4183 non-null   int64  \n",
            " 9   pricingtype                 4183 non-null   int64  \n",
            " 10  osId                        4138 non-null   float64\n",
            " 11  modelDimId_x                4138 non-null   float64\n",
            " 12  connTypeDimId_x             4138 non-null   object \n",
            " 13  countryDimId                4183 non-null   int64  \n",
            " 14  goalTypeId                  4183 non-null   int64  \n",
            " 15  geoGrpDimId_x               4183 non-null   int64  \n",
            " 16  platformId                  1614 non-null   float64\n",
            " 17  advClientId                 2515 non-null   float64\n",
            " 18  pubClientId                 2515 non-null   float64\n",
            " 19  pricingType                 2515 non-null   float64\n",
            " 20  adBlockerDetectionValueId   2418 non-null   float64\n",
            " 21  conversionDurationInMillis  4138 non-null   float64\n",
            " 22  impressionTimeInMillis      4138 non-null   float64\n",
            " 23  clickTimeInMillis           2524 non-null   float64\n",
            " 24  impressionServedTimeStamp   2379 non-null   float64\n",
            "dtypes: float64(12), int64(12), object(1)\n",
            "memory usage: 849.7+ KB\n"
          ],
          "name": "stdout"
        }
      ]
    },
    {
      "cell_type": "code",
      "metadata": {
        "id": "y9nr2k2VbVIh"
      },
      "source": [
        "categorical_cols_impute_nums = [3,16,17,18,19,20,10,11,12]\n",
        "\n",
        "categorical_cols_impute = []\n",
        "\n",
        "for col in categorical_cols_impute_nums:\n",
        "  categorical_cols_impute.append(df.columns[col])\n"
      ],
      "execution_count": 217,
      "outputs": []
    },
    {
      "cell_type": "code",
      "metadata": {
        "colab": {
          "base_uri": "https://localhost:8080/"
        },
        "id": "6sY9Z2ghcm66",
        "outputId": "d7ed9e53-b9cd-43d6-add1-0353f357394c"
      },
      "source": [
        "for col in categorical_cols_impute:\n",
        "  dt =  df[col].dtype\n",
        "  if dt == 'float64':\n",
        "    df[col].fillna(-1,inplace=True)\n",
        "  elif dt == 'object' or dt == 'string':\n",
        "    df[col].fillna(\"Nan\",inplace=True)\n",
        "\n",
        "  \n",
        "   "
      ],
      "execution_count": 218,
      "outputs": [
        {
          "output_type": "stream",
          "text": [
            "/usr/local/lib/python3.7/dist-packages/pandas/core/series.py:4536: SettingWithCopyWarning: \n",
            "A value is trying to be set on a copy of a slice from a DataFrame\n",
            "\n",
            "See the caveats in the documentation: https://pandas.pydata.org/pandas-docs/stable/user_guide/indexing.html#returning-a-view-versus-a-copy\n",
            "  downcast=downcast,\n"
          ],
          "name": "stderr"
        }
      ]
    },
    {
      "cell_type": "code",
      "metadata": {
        "colab": {
          "base_uri": "https://localhost:8080/"
        },
        "id": "iqh3fE7XefIV",
        "outputId": "656c7b25-d8de-4da2-9c76-6b93bf5ddf9c"
      },
      "source": [
        "df[\"clickTimeInMillis\"].fillna(df[\"clickTimeInMillis\"].mean(),inplace=True)\n",
        "df[\"impressionServedTimeStamp\"].fillna(df[\"impressionServedTimeStamp\"].mean(),inplace=True)"
      ],
      "execution_count": 206,
      "outputs": [
        {
          "output_type": "stream",
          "text": [
            "/usr/local/lib/python3.7/dist-packages/pandas/core/series.py:4536: SettingWithCopyWarning: \n",
            "A value is trying to be set on a copy of a slice from a DataFrame\n",
            "\n",
            "See the caveats in the documentation: https://pandas.pydata.org/pandas-docs/stable/user_guide/indexing.html#returning-a-view-versus-a-copy\n",
            "  downcast=downcast,\n"
          ],
          "name": "stderr"
        }
      ]
    },
    {
      "cell_type": "code",
      "metadata": {
        "colab": {
          "base_uri": "https://localhost:8080/"
        },
        "id": "kuhmxWd4f_Dw",
        "outputId": "e5292bee-1665-49fd-bc0f-57372fbb63f8"
      },
      "source": [
        "df[\"conversionDurationInMillis\"].fillna(df[\"conversionDurationInMillis\"].mean(),inplace=True)\n",
        "df[\"impressionTimeInMillis\"].fillna(df[\"impressionTimeInMillis\"].mean(),inplace=True)\n"
      ],
      "execution_count": 215,
      "outputs": [
        {
          "output_type": "stream",
          "text": [
            "/usr/local/lib/python3.7/dist-packages/pandas/core/series.py:4536: SettingWithCopyWarning: \n",
            "A value is trying to be set on a copy of a slice from a DataFrame\n",
            "\n",
            "See the caveats in the documentation: https://pandas.pydata.org/pandas-docs/stable/user_guide/indexing.html#returning-a-view-versus-a-copy\n",
            "  downcast=downcast,\n"
          ],
          "name": "stderr"
        }
      ]
    },
    {
      "cell_type": "code",
      "metadata": {
        "colab": {
          "base_uri": "https://localhost:8080/"
        },
        "id": "e1RN9STvfNa-",
        "outputId": "73f3ad81-cdfa-4824-b584-b94eac8f77b4"
      },
      "source": [
        "df[\"connTypeDimId_x\"] = df[\"connTypeDimId_x\"].astype(\"string\")"
      ],
      "execution_count": 212,
      "outputs": [
        {
          "output_type": "stream",
          "text": [
            "/usr/local/lib/python3.7/dist-packages/ipykernel_launcher.py:1: SettingWithCopyWarning: \n",
            "A value is trying to be set on a copy of a slice from a DataFrame.\n",
            "Try using .loc[row_indexer,col_indexer] = value instead\n",
            "\n",
            "See the caveats in the documentation: https://pandas.pydata.org/pandas-docs/stable/user_guide/indexing.html#returning-a-view-versus-a-copy\n",
            "  \"\"\"Entry point for launching an IPython kernel.\n"
          ],
          "name": "stderr"
        }
      ]
    },
    {
      "cell_type": "code",
      "metadata": {
        "colab": {
          "base_uri": "https://localhost:8080/"
        },
        "id": "YuQ03g-Nd3vg",
        "outputId": "6839a0b7-074b-4b1d-976b-59269def215d"
      },
      "source": [
        "df.info()"
      ],
      "execution_count": 219,
      "outputs": [
        {
          "output_type": "stream",
          "text": [
            "<class 'pandas.core.frame.DataFrame'>\n",
            "Int64Index: 4183 entries, 0 to 4182\n",
            "Data columns (total 25 columns):\n",
            " #   Column                      Non-Null Count  Dtype  \n",
            "---  ------                      --------------  -----  \n",
            " 0   clientid                    4183 non-null   int64  \n",
            " 1   conversiontime              4183 non-null   int64  \n",
            " 2   algo_x                      4183 non-null   int64  \n",
            " 3   clickbid                    4183 non-null   float64\n",
            " 4   geodimid                    4183 non-null   int64  \n",
            " 5   itemcolumbiaid              4183 non-null   int64  \n",
            " 6   siteId_x                    4183 non-null   int64  \n",
            " 7   time                        4183 non-null   int64  \n",
            " 8   adLogType                   4183 non-null   int64  \n",
            " 9   pricingtype                 4183 non-null   int64  \n",
            " 10  osId                        4183 non-null   float64\n",
            " 11  modelDimId_x                4183 non-null   float64\n",
            " 12  connTypeDimId_x             4183 non-null   string \n",
            " 13  countryDimId                4183 non-null   int64  \n",
            " 14  goalTypeId                  4183 non-null   int64  \n",
            " 15  geoGrpDimId_x               4183 non-null   int64  \n",
            " 16  platformId                  4183 non-null   float64\n",
            " 17  advClientId                 4183 non-null   float64\n",
            " 18  pubClientId                 4183 non-null   float64\n",
            " 19  pricingType                 4183 non-null   float64\n",
            " 20  adBlockerDetectionValueId   4183 non-null   float64\n",
            " 21  conversionDurationInMillis  4183 non-null   float64\n",
            " 22  impressionTimeInMillis      4183 non-null   float64\n",
            " 23  clickTimeInMillis           4183 non-null   float64\n",
            " 24  impressionServedTimeStamp   4183 non-null   float64\n",
            "dtypes: float64(12), int64(12), string(1)\n",
            "memory usage: 849.7 KB\n"
          ],
          "name": "stdout"
        }
      ]
    },
    {
      "cell_type": "code",
      "metadata": {
        "id": "Ej66kCoHeVY4"
      },
      "source": [
        "df.to_csv(\"./df.csv\")"
      ],
      "execution_count": 214,
      "outputs": []
    },
    {
      "cell_type": "code",
      "metadata": {
        "id": "P5m9kBtcfwLM"
      },
      "source": [
        "columns_to_normalize_nums = [1,3,7,21,22,23,24]\n",
        "\n",
        "columns_to_normalize = []\n",
        "\n",
        "for col in columns_to_normalize_nums:\n",
        "  columns_to_normalize.append(df.columns[col])\n",
        "\n",
        "\n",
        "\n",
        "columns_to_encode = list(df.columns)\n",
        "for col in columns_to_normalize_nums + [19]:\n",
        "  columns_to_encode.remove(df.columns[col])\n",
        "\n",
        "\n",
        "df_new = pd.get_dummies(df,columns = columns_to_encode)"
      ],
      "execution_count": 229,
      "outputs": []
    },
    {
      "cell_type": "code",
      "metadata": {
        "id": "iXqi7qCmqACe"
      },
      "source": [
        "#norm_cdm = (df_new['conversionDurationInMillis_cr'] - df_new['conversionDurationInMillis_cr'].mean())/  df_new['conversionDurationInMillis_cr'].std()\n",
        "for col in columns_to_normalize:\n",
        "  df_new[col] = (df_new[col] - df_new[col].mean())/  df_new[col].std()\n",
        "  "
      ],
      "execution_count": 233,
      "outputs": []
    },
    {
      "cell_type": "code",
      "metadata": {
        "colab": {
          "base_uri": "https://localhost:8080/",
          "height": 251
        },
        "id": "49XKUnUwlsZf",
        "outputId": "c481b230-8775-480e-e476-a1d966009a16"
      },
      "source": [
        "df_new.head()"
      ],
      "execution_count": 234,
      "outputs": [
        {
          "output_type": "execute_result",
          "data": {
            "text/html": [
              "<div>\n",
              "<style scoped>\n",
              "    .dataframe tbody tr th:only-of-type {\n",
              "        vertical-align: middle;\n",
              "    }\n",
              "\n",
              "    .dataframe tbody tr th {\n",
              "        vertical-align: top;\n",
              "    }\n",
              "\n",
              "    .dataframe thead th {\n",
              "        text-align: right;\n",
              "    }\n",
              "</style>\n",
              "<table border=\"1\" class=\"dataframe\">\n",
              "  <thead>\n",
              "    <tr style=\"text-align: right;\">\n",
              "      <th></th>\n",
              "      <th>conversiontime</th>\n",
              "      <th>clickbid</th>\n",
              "      <th>time</th>\n",
              "      <th>pricingType</th>\n",
              "      <th>conversionDurationInMillis</th>\n",
              "      <th>impressionTimeInMillis</th>\n",
              "      <th>clickTimeInMillis</th>\n",
              "      <th>impressionServedTimeStamp</th>\n",
              "      <th>clientid_542</th>\n",
              "      <th>clientid_1005</th>\n",
              "      <th>clientid_1166</th>\n",
              "      <th>clientid_1518</th>\n",
              "      <th>clientid_1535</th>\n",
              "      <th>clientid_1812</th>\n",
              "      <th>clientid_2060</th>\n",
              "      <th>clientid_2139</th>\n",
              "      <th>clientid_2312</th>\n",
              "      <th>clientid_2632</th>\n",
              "      <th>clientid_3180</th>\n",
              "      <th>clientid_7063</th>\n",
              "      <th>clientid_7750</th>\n",
              "      <th>clientid_10305</th>\n",
              "      <th>clientid_12139</th>\n",
              "      <th>clientid_12510</th>\n",
              "      <th>clientid_12888</th>\n",
              "      <th>clientid_16664</th>\n",
              "      <th>clientid_17688</th>\n",
              "      <th>clientid_24075</th>\n",
              "      <th>clientid_24387</th>\n",
              "      <th>clientid_24720</th>\n",
              "      <th>clientid_29726</th>\n",
              "      <th>clientid_29892</th>\n",
              "      <th>clientid_32847</th>\n",
              "      <th>clientid_33784</th>\n",
              "      <th>clientid_41059</th>\n",
              "      <th>clientid_57429</th>\n",
              "      <th>clientid_59425</th>\n",
              "      <th>clientid_62257</th>\n",
              "      <th>clientid_64835</th>\n",
              "      <th>clientid_64968</th>\n",
              "      <th>...</th>\n",
              "      <th>pubClientId_75941.0</th>\n",
              "      <th>pubClientId_76339.0</th>\n",
              "      <th>pubClientId_76969.0</th>\n",
              "      <th>pubClientId_76971.0</th>\n",
              "      <th>pubClientId_76972.0</th>\n",
              "      <th>pubClientId_76973.0</th>\n",
              "      <th>pubClientId_77853.0</th>\n",
              "      <th>pubClientId_78552.0</th>\n",
              "      <th>pubClientId_78558.0</th>\n",
              "      <th>pubClientId_78747.0</th>\n",
              "      <th>pubClientId_79480.0</th>\n",
              "      <th>pubClientId_80185.0</th>\n",
              "      <th>pubClientId_80186.0</th>\n",
              "      <th>pubClientId_80269.0</th>\n",
              "      <th>pubClientId_81999.0</th>\n",
              "      <th>pubClientId_82007.0</th>\n",
              "      <th>pubClientId_82008.0</th>\n",
              "      <th>pubClientId_82030.0</th>\n",
              "      <th>pubClientId_82562.0</th>\n",
              "      <th>pubClientId_82619.0</th>\n",
              "      <th>pubClientId_82644.0</th>\n",
              "      <th>pubClientId_82663.0</th>\n",
              "      <th>pubClientId_82848.0</th>\n",
              "      <th>pubClientId_82908.0</th>\n",
              "      <th>pubClientId_83084.0</th>\n",
              "      <th>pubClientId_83534.0</th>\n",
              "      <th>pubClientId_83983.0</th>\n",
              "      <th>pubClientId_84020.0</th>\n",
              "      <th>pubClientId_84133.0</th>\n",
              "      <th>pubClientId_85030.0</th>\n",
              "      <th>pubClientId_86272.0</th>\n",
              "      <th>pubClientId_86276.0</th>\n",
              "      <th>pubClientId_86477.0</th>\n",
              "      <th>pubClientId_87027.0</th>\n",
              "      <th>pubClientId_87602.0</th>\n",
              "      <th>pubClientId_87773.0</th>\n",
              "      <th>pubClientId_88434.0</th>\n",
              "      <th>adBlockerDetectionValueId_-1.0</th>\n",
              "      <th>adBlockerDetectionValueId_1.0</th>\n",
              "      <th>adBlockerDetectionValueId_4.0</th>\n",
              "    </tr>\n",
              "  </thead>\n",
              "  <tbody>\n",
              "    <tr>\n",
              "      <th>0</th>\n",
              "      <td>1.484311</td>\n",
              "      <td>-0.572443</td>\n",
              "      <td>1.532343</td>\n",
              "      <td>-1.0</td>\n",
              "      <td>-0.066460</td>\n",
              "      <td>0.043310</td>\n",
              "      <td>6.886253e-11</td>\n",
              "      <td>2.259204e-15</td>\n",
              "      <td>0</td>\n",
              "      <td>0</td>\n",
              "      <td>0</td>\n",
              "      <td>0</td>\n",
              "      <td>0</td>\n",
              "      <td>0</td>\n",
              "      <td>0</td>\n",
              "      <td>0</td>\n",
              "      <td>0</td>\n",
              "      <td>0</td>\n",
              "      <td>0</td>\n",
              "      <td>0</td>\n",
              "      <td>0</td>\n",
              "      <td>0</td>\n",
              "      <td>0</td>\n",
              "      <td>0</td>\n",
              "      <td>0</td>\n",
              "      <td>0</td>\n",
              "      <td>0</td>\n",
              "      <td>0</td>\n",
              "      <td>0</td>\n",
              "      <td>0</td>\n",
              "      <td>0</td>\n",
              "      <td>0</td>\n",
              "      <td>0</td>\n",
              "      <td>0</td>\n",
              "      <td>0</td>\n",
              "      <td>0</td>\n",
              "      <td>0</td>\n",
              "      <td>0</td>\n",
              "      <td>0</td>\n",
              "      <td>0</td>\n",
              "      <td>...</td>\n",
              "      <td>0</td>\n",
              "      <td>0</td>\n",
              "      <td>0</td>\n",
              "      <td>0</td>\n",
              "      <td>0</td>\n",
              "      <td>0</td>\n",
              "      <td>0</td>\n",
              "      <td>0</td>\n",
              "      <td>0</td>\n",
              "      <td>0</td>\n",
              "      <td>0</td>\n",
              "      <td>0</td>\n",
              "      <td>0</td>\n",
              "      <td>0</td>\n",
              "      <td>0</td>\n",
              "      <td>0</td>\n",
              "      <td>0</td>\n",
              "      <td>0</td>\n",
              "      <td>0</td>\n",
              "      <td>0</td>\n",
              "      <td>0</td>\n",
              "      <td>0</td>\n",
              "      <td>0</td>\n",
              "      <td>0</td>\n",
              "      <td>0</td>\n",
              "      <td>0</td>\n",
              "      <td>0</td>\n",
              "      <td>0</td>\n",
              "      <td>0</td>\n",
              "      <td>0</td>\n",
              "      <td>0</td>\n",
              "      <td>0</td>\n",
              "      <td>0</td>\n",
              "      <td>0</td>\n",
              "      <td>0</td>\n",
              "      <td>0</td>\n",
              "      <td>0</td>\n",
              "      <td>1</td>\n",
              "      <td>0</td>\n",
              "      <td>0</td>\n",
              "    </tr>\n",
              "    <tr>\n",
              "      <th>1</th>\n",
              "      <td>0.090993</td>\n",
              "      <td>-0.572443</td>\n",
              "      <td>0.075377</td>\n",
              "      <td>-1.0</td>\n",
              "      <td>-0.077591</td>\n",
              "      <td>0.043310</td>\n",
              "      <td>6.886253e-11</td>\n",
              "      <td>2.259204e-15</td>\n",
              "      <td>0</td>\n",
              "      <td>0</td>\n",
              "      <td>0</td>\n",
              "      <td>0</td>\n",
              "      <td>0</td>\n",
              "      <td>0</td>\n",
              "      <td>0</td>\n",
              "      <td>0</td>\n",
              "      <td>0</td>\n",
              "      <td>0</td>\n",
              "      <td>0</td>\n",
              "      <td>0</td>\n",
              "      <td>0</td>\n",
              "      <td>0</td>\n",
              "      <td>0</td>\n",
              "      <td>0</td>\n",
              "      <td>0</td>\n",
              "      <td>0</td>\n",
              "      <td>0</td>\n",
              "      <td>0</td>\n",
              "      <td>0</td>\n",
              "      <td>0</td>\n",
              "      <td>0</td>\n",
              "      <td>0</td>\n",
              "      <td>0</td>\n",
              "      <td>0</td>\n",
              "      <td>0</td>\n",
              "      <td>0</td>\n",
              "      <td>0</td>\n",
              "      <td>0</td>\n",
              "      <td>0</td>\n",
              "      <td>0</td>\n",
              "      <td>...</td>\n",
              "      <td>0</td>\n",
              "      <td>0</td>\n",
              "      <td>0</td>\n",
              "      <td>0</td>\n",
              "      <td>0</td>\n",
              "      <td>0</td>\n",
              "      <td>0</td>\n",
              "      <td>0</td>\n",
              "      <td>0</td>\n",
              "      <td>0</td>\n",
              "      <td>0</td>\n",
              "      <td>0</td>\n",
              "      <td>0</td>\n",
              "      <td>0</td>\n",
              "      <td>0</td>\n",
              "      <td>0</td>\n",
              "      <td>0</td>\n",
              "      <td>0</td>\n",
              "      <td>0</td>\n",
              "      <td>0</td>\n",
              "      <td>0</td>\n",
              "      <td>0</td>\n",
              "      <td>0</td>\n",
              "      <td>0</td>\n",
              "      <td>0</td>\n",
              "      <td>0</td>\n",
              "      <td>0</td>\n",
              "      <td>0</td>\n",
              "      <td>0</td>\n",
              "      <td>0</td>\n",
              "      <td>0</td>\n",
              "      <td>0</td>\n",
              "      <td>0</td>\n",
              "      <td>0</td>\n",
              "      <td>0</td>\n",
              "      <td>0</td>\n",
              "      <td>0</td>\n",
              "      <td>1</td>\n",
              "      <td>0</td>\n",
              "      <td>0</td>\n",
              "    </tr>\n",
              "    <tr>\n",
              "      <th>2</th>\n",
              "      <td>0.153068</td>\n",
              "      <td>-0.572443</td>\n",
              "      <td>0.140293</td>\n",
              "      <td>-1.0</td>\n",
              "      <td>-0.124029</td>\n",
              "      <td>0.154289</td>\n",
              "      <td>6.886253e-11</td>\n",
              "      <td>2.259204e-15</td>\n",
              "      <td>0</td>\n",
              "      <td>0</td>\n",
              "      <td>0</td>\n",
              "      <td>0</td>\n",
              "      <td>0</td>\n",
              "      <td>0</td>\n",
              "      <td>0</td>\n",
              "      <td>0</td>\n",
              "      <td>0</td>\n",
              "      <td>0</td>\n",
              "      <td>0</td>\n",
              "      <td>0</td>\n",
              "      <td>0</td>\n",
              "      <td>0</td>\n",
              "      <td>0</td>\n",
              "      <td>0</td>\n",
              "      <td>0</td>\n",
              "      <td>0</td>\n",
              "      <td>0</td>\n",
              "      <td>0</td>\n",
              "      <td>0</td>\n",
              "      <td>0</td>\n",
              "      <td>0</td>\n",
              "      <td>0</td>\n",
              "      <td>0</td>\n",
              "      <td>0</td>\n",
              "      <td>0</td>\n",
              "      <td>0</td>\n",
              "      <td>0</td>\n",
              "      <td>0</td>\n",
              "      <td>0</td>\n",
              "      <td>0</td>\n",
              "      <td>...</td>\n",
              "      <td>0</td>\n",
              "      <td>0</td>\n",
              "      <td>0</td>\n",
              "      <td>0</td>\n",
              "      <td>0</td>\n",
              "      <td>0</td>\n",
              "      <td>0</td>\n",
              "      <td>0</td>\n",
              "      <td>0</td>\n",
              "      <td>0</td>\n",
              "      <td>0</td>\n",
              "      <td>0</td>\n",
              "      <td>0</td>\n",
              "      <td>0</td>\n",
              "      <td>0</td>\n",
              "      <td>0</td>\n",
              "      <td>0</td>\n",
              "      <td>0</td>\n",
              "      <td>0</td>\n",
              "      <td>0</td>\n",
              "      <td>0</td>\n",
              "      <td>0</td>\n",
              "      <td>0</td>\n",
              "      <td>0</td>\n",
              "      <td>0</td>\n",
              "      <td>0</td>\n",
              "      <td>0</td>\n",
              "      <td>0</td>\n",
              "      <td>0</td>\n",
              "      <td>0</td>\n",
              "      <td>0</td>\n",
              "      <td>0</td>\n",
              "      <td>0</td>\n",
              "      <td>0</td>\n",
              "      <td>0</td>\n",
              "      <td>0</td>\n",
              "      <td>0</td>\n",
              "      <td>1</td>\n",
              "      <td>0</td>\n",
              "      <td>0</td>\n",
              "    </tr>\n",
              "    <tr>\n",
              "      <th>3</th>\n",
              "      <td>-0.501954</td>\n",
              "      <td>0.215845</td>\n",
              "      <td>-0.544489</td>\n",
              "      <td>16.0</td>\n",
              "      <td>-0.124501</td>\n",
              "      <td>0.154289</td>\n",
              "      <td>1.269498e-01</td>\n",
              "      <td>-1.698870e-01</td>\n",
              "      <td>0</td>\n",
              "      <td>0</td>\n",
              "      <td>0</td>\n",
              "      <td>0</td>\n",
              "      <td>0</td>\n",
              "      <td>0</td>\n",
              "      <td>0</td>\n",
              "      <td>0</td>\n",
              "      <td>0</td>\n",
              "      <td>0</td>\n",
              "      <td>0</td>\n",
              "      <td>0</td>\n",
              "      <td>0</td>\n",
              "      <td>0</td>\n",
              "      <td>0</td>\n",
              "      <td>0</td>\n",
              "      <td>0</td>\n",
              "      <td>0</td>\n",
              "      <td>0</td>\n",
              "      <td>0</td>\n",
              "      <td>0</td>\n",
              "      <td>0</td>\n",
              "      <td>0</td>\n",
              "      <td>0</td>\n",
              "      <td>0</td>\n",
              "      <td>0</td>\n",
              "      <td>0</td>\n",
              "      <td>0</td>\n",
              "      <td>0</td>\n",
              "      <td>0</td>\n",
              "      <td>0</td>\n",
              "      <td>0</td>\n",
              "      <td>...</td>\n",
              "      <td>0</td>\n",
              "      <td>0</td>\n",
              "      <td>0</td>\n",
              "      <td>0</td>\n",
              "      <td>0</td>\n",
              "      <td>0</td>\n",
              "      <td>0</td>\n",
              "      <td>0</td>\n",
              "      <td>0</td>\n",
              "      <td>0</td>\n",
              "      <td>0</td>\n",
              "      <td>0</td>\n",
              "      <td>0</td>\n",
              "      <td>0</td>\n",
              "      <td>0</td>\n",
              "      <td>0</td>\n",
              "      <td>0</td>\n",
              "      <td>0</td>\n",
              "      <td>0</td>\n",
              "      <td>0</td>\n",
              "      <td>0</td>\n",
              "      <td>0</td>\n",
              "      <td>0</td>\n",
              "      <td>0</td>\n",
              "      <td>1</td>\n",
              "      <td>0</td>\n",
              "      <td>0</td>\n",
              "      <td>0</td>\n",
              "      <td>0</td>\n",
              "      <td>0</td>\n",
              "      <td>0</td>\n",
              "      <td>0</td>\n",
              "      <td>0</td>\n",
              "      <td>0</td>\n",
              "      <td>0</td>\n",
              "      <td>0</td>\n",
              "      <td>0</td>\n",
              "      <td>0</td>\n",
              "      <td>1</td>\n",
              "      <td>0</td>\n",
              "    </tr>\n",
              "    <tr>\n",
              "      <th>4</th>\n",
              "      <td>0.954452</td>\n",
              "      <td>-0.572443</td>\n",
              "      <td>0.978228</td>\n",
              "      <td>-1.0</td>\n",
              "      <td>-0.050054</td>\n",
              "      <td>0.043310</td>\n",
              "      <td>6.886253e-11</td>\n",
              "      <td>2.259204e-15</td>\n",
              "      <td>0</td>\n",
              "      <td>0</td>\n",
              "      <td>0</td>\n",
              "      <td>0</td>\n",
              "      <td>0</td>\n",
              "      <td>0</td>\n",
              "      <td>0</td>\n",
              "      <td>0</td>\n",
              "      <td>0</td>\n",
              "      <td>0</td>\n",
              "      <td>0</td>\n",
              "      <td>0</td>\n",
              "      <td>0</td>\n",
              "      <td>0</td>\n",
              "      <td>0</td>\n",
              "      <td>0</td>\n",
              "      <td>0</td>\n",
              "      <td>0</td>\n",
              "      <td>0</td>\n",
              "      <td>0</td>\n",
              "      <td>0</td>\n",
              "      <td>0</td>\n",
              "      <td>0</td>\n",
              "      <td>0</td>\n",
              "      <td>0</td>\n",
              "      <td>0</td>\n",
              "      <td>0</td>\n",
              "      <td>0</td>\n",
              "      <td>0</td>\n",
              "      <td>0</td>\n",
              "      <td>0</td>\n",
              "      <td>0</td>\n",
              "      <td>...</td>\n",
              "      <td>0</td>\n",
              "      <td>0</td>\n",
              "      <td>0</td>\n",
              "      <td>0</td>\n",
              "      <td>0</td>\n",
              "      <td>0</td>\n",
              "      <td>0</td>\n",
              "      <td>0</td>\n",
              "      <td>0</td>\n",
              "      <td>0</td>\n",
              "      <td>0</td>\n",
              "      <td>0</td>\n",
              "      <td>0</td>\n",
              "      <td>0</td>\n",
              "      <td>0</td>\n",
              "      <td>0</td>\n",
              "      <td>0</td>\n",
              "      <td>0</td>\n",
              "      <td>0</td>\n",
              "      <td>0</td>\n",
              "      <td>0</td>\n",
              "      <td>0</td>\n",
              "      <td>0</td>\n",
              "      <td>0</td>\n",
              "      <td>0</td>\n",
              "      <td>0</td>\n",
              "      <td>0</td>\n",
              "      <td>0</td>\n",
              "      <td>0</td>\n",
              "      <td>0</td>\n",
              "      <td>0</td>\n",
              "      <td>0</td>\n",
              "      <td>0</td>\n",
              "      <td>0</td>\n",
              "      <td>0</td>\n",
              "      <td>0</td>\n",
              "      <td>0</td>\n",
              "      <td>1</td>\n",
              "      <td>0</td>\n",
              "      <td>0</td>\n",
              "    </tr>\n",
              "  </tbody>\n",
              "</table>\n",
              "<p>5 rows × 863 columns</p>\n",
              "</div>"
            ],
            "text/plain": [
              "   conversiontime  ...  adBlockerDetectionValueId_4.0\n",
              "0        1.484311  ...                              0\n",
              "1        0.090993  ...                              0\n",
              "2        0.153068  ...                              0\n",
              "3       -0.501954  ...                              0\n",
              "4        0.954452  ...                              0\n",
              "\n",
              "[5 rows x 863 columns]"
            ]
          },
          "metadata": {
            "tags": []
          },
          "execution_count": 234
        }
      ]
    },
    {
      "cell_type": "code",
      "metadata": {
        "id": "TEgF-0V_pvze"
      },
      "source": [
        "df_new.to_csv('df_new.csv')"
      ],
      "execution_count": 236,
      "outputs": []
    },
    {
      "cell_type": "code",
      "metadata": {
        "colab": {
          "base_uri": "https://localhost:8080/"
        },
        "id": "6B-65PmQrkc5",
        "outputId": "c600e9b1-84e5-4e8c-8580-272c05027a8f"
      },
      "source": [
        "df_new.shape"
      ],
      "execution_count": 238,
      "outputs": [
        {
          "output_type": "execute_result",
          "data": {
            "text/plain": [
              "(4183, 863)"
            ]
          },
          "metadata": {
            "tags": []
          },
          "execution_count": 238
        }
      ]
    },
    {
      "cell_type": "code",
      "metadata": {
        "id": "RUBAPe-mrK_0"
      },
      "source": [
        "import matplotlib.pyplot as plt\n",
        "import numpy as np\n",
        "import pandas as pd\n",
        "import tensorflow as tf\n",
        "\n",
        "from tensorflow.keras import layers, losses\n",
        "from tensorflow.keras.models import Model"
      ],
      "execution_count": 237,
      "outputs": []
    },
    {
      "cell_type": "code",
      "metadata": {
        "id": "rEWnnFDnrdzn"
      },
      "source": [
        "latent_dim = 64\n",
        "\n",
        "class Autoencoder(Model):\n",
        "  def __init__(self, latent_dim):\n",
        "    super(Autoencoder, self).__init__()\n",
        "    self.latent_dim = latent_dim   \n",
        "    self.encoder = tf.keras.Sequential([\n",
        "      layers.Dense(128,activation='relu'),\n",
        "      layers.Dense(latent_dim, activation='relu'),\n",
        "    ])\n",
        "    self.decoder = tf.keras.Sequential([\n",
        "      layers.Dense(128,activation='relu'),\n",
        "      layers.Dense(863, activation='sigmoid')\n",
        "      \n",
        "    ])\n",
        "\n",
        "  def call(self, x):\n",
        "    encoded = self.encoder(x)\n",
        "    decoded = self.decoder(encoded)\n",
        "    return decoded\n",
        "\n",
        "autoencoder = Autoencoder(latent_dim)"
      ],
      "execution_count": 239,
      "outputs": []
    },
    {
      "cell_type": "code",
      "metadata": {
        "id": "H9IdLGrMvn3q"
      },
      "source": [
        "autoencoder.compile(optimizer='adam', loss=losses.MeanSquaredError())"
      ],
      "execution_count": 240,
      "outputs": []
    },
    {
      "cell_type": "code",
      "metadata": {
        "id": "APQkSjDdvpD1"
      },
      "source": [
        "train = df_new[:3900]\n",
        "valid = df_new[2900:]"
      ],
      "execution_count": 243,
      "outputs": []
    },
    {
      "cell_type": "code",
      "metadata": {
        "id": "rQJq3uzOy4K3"
      },
      "source": [
        ""
      ],
      "execution_count": 256,
      "outputs": []
    },
    {
      "cell_type": "code",
      "metadata": {
        "id": "X7C6DHhNy7am"
      },
      "source": [
        ""
      ],
      "execution_count": 256,
      "outputs": []
    },
    {
      "cell_type": "code",
      "metadata": {
        "colab": {
          "base_uri": "https://localhost:8080/"
        },
        "id": "lWLb5o1_vxKF",
        "outputId": "46db93f5-8b52-47aa-e135-bf75c314550d"
      },
      "source": [
        "autoencoder.fit(train, train,\n",
        "                epochs=10,\n",
        "                shuffle=True,\n",
        "                validation_data=(valid, valid))"
      ],
      "execution_count": 244,
      "outputs": [
        {
          "output_type": "stream",
          "text": [
            "Epoch 1/10\n",
            "122/122 [==============================] - 1s 6ms/step - loss: 0.1820 - val_loss: 0.1849\n",
            "Epoch 2/10\n",
            "122/122 [==============================] - 0s 4ms/step - loss: 0.1490 - val_loss: 0.1836\n",
            "Epoch 3/10\n",
            "122/122 [==============================] - 0s 3ms/step - loss: 0.1478 - val_loss: 0.1825\n",
            "Epoch 4/10\n",
            "122/122 [==============================] - 0s 4ms/step - loss: 0.1470 - val_loss: 0.1818\n",
            "Epoch 5/10\n",
            "122/122 [==============================] - 0s 4ms/step - loss: 0.1464 - val_loss: 0.1814\n",
            "Epoch 6/10\n",
            "122/122 [==============================] - 0s 4ms/step - loss: 0.1461 - val_loss: 0.1812\n",
            "Epoch 7/10\n",
            "122/122 [==============================] - 0s 4ms/step - loss: 0.1459 - val_loss: 0.1810\n",
            "Epoch 8/10\n",
            "122/122 [==============================] - 0s 3ms/step - loss: 0.1458 - val_loss: 0.1809\n",
            "Epoch 9/10\n",
            "122/122 [==============================] - 0s 3ms/step - loss: 0.1457 - val_loss: 0.1808\n",
            "Epoch 10/10\n",
            "122/122 [==============================] - 0s 4ms/step - loss: 0.1453 - val_loss: 0.1801\n"
          ],
          "name": "stdout"
        },
        {
          "output_type": "execute_result",
          "data": {
            "text/plain": [
              "<tensorflow.python.keras.callbacks.History at 0x7f512ff45f10>"
            ]
          },
          "metadata": {
            "tags": []
          },
          "execution_count": 244
        }
      ]
    },
    {
      "cell_type": "code",
      "metadata": {
        "id": "7V_y-QitxWWv"
      },
      "source": [
        "df_new_numpy = df_new.to_numpy()\n",
        "encoded_records = autoencoder.encoder(df_new_numpy).numpy()\n",
        "decoded_records = autoencoder.decoder(encoded_records).numpy()"
      ],
      "execution_count": 313,
      "outputs": []
    },
    {
      "cell_type": "code",
      "metadata": {
        "colab": {
          "base_uri": "https://localhost:8080/"
        },
        "id": "sf_jGBgjyc74",
        "outputId": "d442d713-f0d6-4870-b659-e2970f93f476"
      },
      "source": [
        "decoded_records[0].shape"
      ],
      "execution_count": 263,
      "outputs": [
        {
          "output_type": "execute_result",
          "data": {
            "text/plain": [
              "(863,)"
            ]
          },
          "metadata": {
            "tags": []
          },
          "execution_count": 263
        }
      ]
    },
    {
      "cell_type": "code",
      "metadata": {
        "id": "DHn_yWvZzOcu"
      },
      "source": [
        "def mean_squared_error(act, pred):\n",
        "   diff = pred - act\n",
        "   differences_squared = diff ** 2\n",
        "   mean_diff = differences_squared.mean()\n",
        "   return mean_diff"
      ],
      "execution_count": 259,
      "outputs": []
    },
    {
      "cell_type": "code",
      "metadata": {
        "id": "aNENUYXpzaFF"
      },
      "source": [
        "all_losses = []\n",
        "\n",
        "for index,record in enumerate(df_new_numpy):\n",
        "   all_losses.append(mean_squared_error(df_new_numpy[index],decoded_records[index]))\n",
        "\n"
      ],
      "execution_count": 268,
      "outputs": []
    },
    {
      "cell_type": "code",
      "metadata": {
        "colab": {
          "base_uri": "https://localhost:8080/"
        },
        "id": "SgbYGe8D1auo",
        "outputId": "a69136b4-3a51-4d72-f279-917fa5b44a1b"
      },
      "source": [
        "len(all_losses)"
      ],
      "execution_count": 270,
      "outputs": [
        {
          "output_type": "execute_result",
          "data": {
            "text/plain": [
              "4183"
            ]
          },
          "metadata": {
            "tags": []
          },
          "execution_count": 270
        }
      ]
    },
    {
      "cell_type": "code",
      "metadata": {
        "id": "EbrNchT72wkW"
      },
      "source": [
        "losses = np.array(all_losses)"
      ],
      "execution_count": 301,
      "outputs": []
    },
    {
      "cell_type": "code",
      "metadata": {
        "colab": {
          "base_uri": "https://localhost:8080/"
        },
        "id": "TKzYXmoe31FZ",
        "outputId": "7d4030c9-bb34-4672-b7da-4639e8566472"
      },
      "source": [
        "threshold = np.mean(losses) * 1.00 + np.std(losses) * 1.02\n",
        "print(threshold)\n",
        "np.where(losses > threshold)[0].shape"
      ],
      "execution_count": 341,
      "outputs": [
        {
          "output_type": "stream",
          "text": [
            "0.30702319814525003\n"
          ],
          "name": "stdout"
        },
        {
          "output_type": "execute_result",
          "data": {
            "text/plain": [
              "(329,)"
            ]
          },
          "metadata": {
            "tags": []
          },
          "execution_count": 341
        }
      ]
    },
    {
      "cell_type": "code",
      "metadata": {
        "id": "x2Wppc3g-LQc"
      },
      "source": [
        ""
      ],
      "execution_count": 345,
      "outputs": []
    },
    {
      "cell_type": "code",
      "metadata": {
        "colab": {
          "base_uri": "https://localhost:8080/"
        },
        "id": "aea8KL3M3Aos",
        "outputId": "dde8501e-cc49-4e00-dc71-a90513530f05"
      },
      "source": [
        "def get_anomolies_count(losses,rule1_col,rule2_col,threshold):\n",
        "  new_losses = (losses + 0.1 * rule1_col * 0.1 * rule2_col) * 0.995\n",
        "  return np.where(new_losses > threshold)[0].shape\n",
        "\n",
        "\n",
        "get_anomolies_count(all_losses,joined_df[\"adSlot_check\"],joined_df[\"timestamp_check\"],threshold)\n"
      ],
      "execution_count": 359,
      "outputs": [
        {
          "output_type": "execute_result",
          "data": {
            "text/plain": [
              "(178,)"
            ]
          },
          "metadata": {
            "tags": []
          },
          "execution_count": 359
        }
      ]
    },
    {
      "cell_type": "code",
      "metadata": {
        "colab": {
          "base_uri": "https://localhost:8080/"
        },
        "id": "sAzMnqV13JkO",
        "outputId": "dfa6115e-5c44-4a37-9c1f-f01f8f763c58"
      },
      "source": [
        "joined_df[\"adSlot_check\"][]"
      ],
      "execution_count": 328,
      "outputs": [
        {
          "output_type": "execute_result",
          "data": {
            "text/plain": [
              "0       1\n",
              "1       1\n",
              "2       0\n",
              "3       1\n",
              "4       1\n",
              "       ..\n",
              "4178    0\n",
              "4179    0\n",
              "4180    0\n",
              "4181    0\n",
              "4182    0\n",
              "Name: adSlot_check, Length: 4183, dtype: int64"
            ]
          },
          "metadata": {
            "tags": []
          },
          "execution_count": 328
        }
      ]
    },
    {
      "cell_type": "code",
      "metadata": {
        "id": "HYegDTj57gcO"
      },
      "source": [
        ""
      ],
      "execution_count": null,
      "outputs": []
    }
  ]
}